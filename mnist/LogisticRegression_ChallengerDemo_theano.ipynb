{
 "cells": [
  {
   "cell_type": "markdown",
   "metadata": {},
   "source": [
    "# A simple example for logistic regression\n",
    "This notebook calculates a logistic regression using theano. It's basically meant to show the principles of theano.\n",
    "\n",
    "## Datset\n",
    "\n",
    "We investigate the data set of the challenger flight with broken O-rings (Y=1) vs start temperature."
   ]
  },
  {
   "cell_type": "code",
   "execution_count": 1,
   "metadata": {
    "collapsed": false
   },
   "outputs": [
    {
     "name": "stdout",
     "output_type": "stream",
     "text": [
      "Using matplotlib backend: MacOSX\n",
      "Populating the interactive namespace from numpy and matplotlib\n"
     ]
    },
    {
     "data": {
      "text/plain": [
       "[40, 85, -0.1, 1.2]"
      ]
     },
     "execution_count": 1,
     "metadata": {},
     "output_type": "execute_result"
    },
    {
     "data": {
      "image/png": "[encoded data removed]",
      "text/plain": [
       "<matplotlib.figure.Figure at 0x10fc6f990>"
      ]
     },
     "metadata": {},
     "output_type": "display_data"
    }
   ],
   "source": [
    "%pylab\n",
    "%matplotlib inline\n",
    "import pandas as pd\n",
    "import numpy as np\n",
    "data = np.asarray(pd.read_csv('challenger.txt', sep=','), dtype='float32')\n",
    "plt.plot(data[:,0], data[:,1], 'o')\n",
    "plt.axis([40, 85, -0.1, 1.2])"
   ]
  },
  {
   "cell_type": "markdown",
   "metadata": {},
   "source": [
    "## Mathematical Notes\n",
    "We are considering the likelihood $p(y_i=1|x_i)$ for the class $y_i=1$ given the $i-$th data point $x_i$ ($x_i$ could be a vector). This is given by:\n",
    "$\n",
    "p(y_i=1 | x_i) = \\frac{e^{(b + W' x_i)}}{1 + e^{(b + W' x_i)}} = [1 + e^{-(b + W' x_i)}]^{-1}\n",
    "$\n",
    "\n",
    "If we have more than one data point, which we usually do, we have to apply the equation above to each of the N data points. In this case we can used a vectorized version with $x=(x_1,x_2,\\ldots,x_N)$ and $y=(y_1,y_2,\\ldots,y_N$)"
   ]
  },
  {
   "cell_type": "code",
   "execution_count": 2,
   "metadata": {
    "collapsed": false
   },
   "outputs": [
    {
     "name": "stdout",
     "output_type": "stream",
     "text": [
      "Initial model: w = [ 0.78847617], b = 10.0\n"
     ]
    }
   ],
   "source": [
    "import numpy\n",
    "import theano\n",
    "import theano.tensor as T\n",
    "rng = numpy.random\n",
    "\n",
    "feats = 1\n",
    "# Symbolic Variables \n",
    "x = T.matrix(\"x\") \n",
    "y = T.vector(\"y\")\n",
    "\n",
    "# Shared Variables (symbolic Variables  changes between differnt calls)\n",
    "w = theano.shared(rng.randn(feats), name=\"w\")\n",
    "b = theano.shared(10., name=\"b\")\n",
    "print \"Initial model: w = {}, b = {}\".format(w.get_value(), b.get_value())\n",
    "\n",
    "# Construct log-likelihood as a symbolic expression\n",
    "p_1 = 1 / (1 + T.exp(-T.dot(x, w) - b))       # p_1 = p(y=1 | x)\n",
    "like = y * T.log(p_1) + (1-y) * T.log(1-p_1)  # Log likelihood for the vectors of the trainigset\n",
    "\n",
    "# Costfunction is sum of all likelihoods in the training set. Since N is constant taking mean is also OK.\n",
    "cost = -like.mean()\n",
    "\n",
    "# This is the real strength of theano, we calculate the gradient of the cost function w.r.t w and b\n",
    "gw, gb = T.grad(cost, [w, b])\n",
    "\n",
    "# Compile a theano function based on the provided input for training\n",
    "train = theano.function(\n",
    "          inputs=[x,y],         #Goes into the function\n",
    "          outputs=[p_1, cost],  #Is used inside the function\n",
    "          updates=((w, w - 0.001 * gw), (b, b - 0.1 * gb)) # w and b will be updated by a function call as follows.\n",
    ")\n",
    "\n",
    "# Compile a theano function for testing\n",
    "predict = theano.function(inputs=[x], outputs=p_1)"
   ]
  },
  {
   "cell_type": "code",
   "execution_count": 3,
   "metadata": {
    "collapsed": false
   },
   "outputs": [],
   "source": [
    "x_vals = data[:,0]\n",
    "x_vals = np.resize(x_vals,[len(x_vals),1]) #Need to be a matrix, here of length 1 for one parameter\n",
    "y_vals = data[:,1]"
   ]
  },
  {
   "cell_type": "markdown",
   "metadata": {},
   "source": [
    "## Training of the logistic regression"
   ]
  },
  {
   "cell_type": "code",
   "execution_count": 4,
   "metadata": {
    "collapsed": false
   },
   "outputs": [
    {
     "name": "stdout",
     "output_type": "stream",
     "text": [
      "i=0 total error = 46.5174564385 w = [ 0.73830225] b = 9.93043478157 \n",
      "i=2500 total error = 0.452954202675 w = [-0.16102626] b = 10.177658701 \n",
      "i=5000 total error = 0.448262180589 w = [-0.17662375] b = 11.2450733242 \n",
      "i=7500 total error = 0.445652002842 w = [-0.1882694] b = 12.0417270522 \n",
      "i=10000 total error = 0.444131198691 w = [-0.1971645] b = 12.650083691 \n",
      "i=12500 total error = 0.443214874859 w = [-0.20407215] b = 13.1224464776 \n",
      "i=15000 total error = 0.442648834721 w = [-0.20950294] b = 13.4937829895 \n",
      "i=17500 total error = 0.442292512538 w = [-0.21381276] b = 13.7884515716 \n",
      "i=20000 total error = 0.442064925841 w = [-0.21725772] b = 14.0239767102 \n",
      "i=22500 total error = 0.441917908786 w = [-0.22002688] b = 14.2132925906 \n",
      "i=25000 total error = 0.44182208793 w = [-0.22226271] b = 14.366141991 \n",
      "i=27500 total error = 0.441759191531 w = [-0.22407428] b = 14.4899847313 \n",
      "i=30000 total error = 0.441717672472 w = [-0.22554623] b = 14.5906084482 \n",
      "i=32500 total error = 0.441690140188 w = [-0.22674493] b = 14.6725516316 \n",
      "i=35000 total error = 0.441671815824 w = [-0.22772289] b = 14.7394042265 \n",
      "i=37500 total error = 0.441659583626 w = [-0.22852193] b = 14.794026001 \n",
      "i=40000 total error = 0.441651398477 w = [-0.22917558] b = 14.8387082218 \n",
      "i=42500 total error = 0.441645910649 w = [-0.22971081] b = 14.8752953293 \n",
      "i=45000 total error = 0.441642225382 w = [-0.23014942] b = 14.9052778029 \n",
      "i=47500 total error = 0.441639747365 w = [-0.23050909] b = 14.9298638929 \n",
      "Final model: w = [-0.23080408], b = 14.9500282989\n"
     ]
    },
    {
     "data": {
      "text/plain": [
       "[<matplotlib.lines.Line2D at 0x11565cb10>]"
      ]
     },
     "execution_count": 4,
     "metadata": {},
     "output_type": "execute_result"
    },
    {
     "data": {
      "image/png": "[encoded data removed]",
      "text/plain": [
       "<matplotlib.figure.Figure at 0x10fc4eed0>"
      ]
     },
     "metadata": {},
     "output_type": "display_data"
    }
   ],
   "source": [
    "# Train\n",
    "num_training = 50000\n",
    "epoch = np.zeros(num_training)\n",
    "for i in range(num_training):\n",
    "    pred, err = train(x_vals, y_vals)\n",
    "    epoch[i] = err\n",
    "    if (i % int(num_training / 20.0) == 0):\n",
    "        print(\"i={} total error = {} w = {} b = {} \".format(i,err, w.get_value(), b.get_value()))\n",
    "\n",
    "print \"Final model: w = {}, b = {}\".format(w.get_value(), b.get_value())\n",
    "plt.plot(np.log(epoch))"
   ]
  },
  {
   "cell_type": "code",
   "execution_count": 5,
   "metadata": {
    "collapsed": false
   },
   "outputs": [
    {
     "data": {
      "text/plain": [
       "[<matplotlib.lines.Line2D at 0x11559f2d0>]"
      ]
     },
     "execution_count": 5,
     "metadata": {},
     "output_type": "execute_result"
    },
    {
     "data": {
      "image/png": "[encoded data removed]",
      "text/plain": [
       "<matplotlib.figure.Figure at 0x11559fbd0>"
      ]
     },
     "metadata": {},
     "output_type": "display_data"
    }
   ],
   "source": [
    "plt.plot(data[:,0], data[:,1], 'o')\n",
    "plt.axis([40, 85, -0.1, 1.2])\n",
    "x_pred = np.linspace(40,85, dtype='float32')\n",
    "x_pred = np.resize(x_pred,[len(x_pred),1])\n",
    "y_pred = predict(x_pred)\n",
    "plt.plot(x_pred, y_pred)"
   ]
  }
 ],
 "metadata": {
  "kernelspec": {
   "display_name": "Python 2",
   "language": "python",
   "name": "python2"
  },
  "language_info": {
   "codemirror_mode": {
    "name": "ipython",
    "version": 2
   },
   "file_extension": ".py",
   "mimetype": "text/x-python",
   "name": "python",
   "nbconvert_exporter": "python",
   "pygments_lexer": "ipython2",
   "version": "2.7.10"
  }
 },
 "nbformat": 4,
 "nbformat_minor": 0
}
