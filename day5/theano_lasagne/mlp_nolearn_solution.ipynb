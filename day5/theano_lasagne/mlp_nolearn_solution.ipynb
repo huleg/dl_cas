{
 "cells": [
  {
   "cell_type": "markdown",
   "metadata": {},
   "source": [
    "# Minimal No / Learn Lasagne Demo (multilayer perceptron)\n",
    "In this script we build a small multilayer perceptron with two hidden layers having 500 and 50 neurons each for classifying the MNIST database of handwritten digits.  \n",
    "\n",
    "\n",
    "## Loading the data\n",
    "As before we restrict us to the first 4000 digits so that an interactive session is possible.  \n",
    "\n",
    "### Data-Format\n",
    "For Lasagne all images must be provided in a 4-dimensional array X with the following dimensions (number of images, number of colors, x, y) and the labels in a vector y of same size. So X[1,0,1,2] would be the image number 1, the color channel 0 and the pixel x = (1,2)."
   ]
  },
  {
   "cell_type": "code",
   "execution_count": 1,
   "metadata": {
    "collapsed": false
   },
   "outputs": [
    {
     "data": {
      "text/plain": [
       "((4000, 1, 28, 28), (4000,), 28)"
      ]
     },
     "execution_count": 1,
     "metadata": {},
     "output_type": "execute_result"
    }
   ],
   "source": [
    "%matplotlib inline\n",
    "import numpy as np\n",
    "import matplotlib.pyplot as plt\n",
    "import matplotlib.image as imgplot\n",
    "\n",
    "import cPickle as pickle\n",
    "import gzip\n",
    "with gzip.open('../mnist_4000.pkl.gz', 'rb') as f:\n",
    "    (X,y) = pickle.load(f)\n",
    "PIXELS = len(X[0,0,0,:])\n",
    "X.shape, y.shape, PIXELS"
   ]
  },
  {
   "cell_type": "code",
   "execution_count": 2,
   "metadata": {
    "collapsed": false
   },
   "outputs": [
    {
     "data": {
      "text/plain": [
       "1.0584806"
      ]
     },
     "execution_count": 2,
     "metadata": {},
     "output_type": "execute_result"
    }
   ],
   "source": [
    "X[0,0,15,16] "
   ]
  },
  {
   "cell_type": "markdown",
   "metadata": {},
   "source": [
    "##### Let s plot the first few images and label"
   ]
  },
  {
   "cell_type": "code",
   "execution_count": 4,
   "metadata": {
    "collapsed": false
   },
   "outputs": [
    {
     "data": {
      "text/plain": [
       "array([5, 0, 4, 1, 9, 2, 1, 3, 1, 4], dtype=int32)"
      ]
     },
     "execution_count": 4,
     "metadata": {},
     "output_type": "execute_result"
    }
   ],
   "source": [
    "y[0:10]"
   ]
  },
  {
   "cell_type": "code",
   "execution_count": 4,
   "metadata": {
    "collapsed": false,
    "scrolled": true
   },
   "outputs": [
    {
     "data": {
      "image/png": "[encoded data removed]",
      "text/plain": [
       "<matplotlib.figure.Figure at 0x1122caad0>"
      ]
     },
     "metadata": {},
     "output_type": "display_data"
    }
   ],
   "source": [
    "fig = plt.figure(figsize=(10,30))\n",
    "for i in range(3):\n",
    "    a=fig.add_subplot(1,3,(i+1))\n",
    "    plt.imshow(-X[i,0,:,:], interpolation='none',cmap=plt.get_cmap('gray'))"
   ]
  },
  {
   "cell_type": "markdown",
   "metadata": {},
   "source": [
    "Note that the backgound is not uniform. That is due to the batchnormalization."
   ]
  },
  {
   "cell_type": "markdown",
   "metadata": {},
   "source": [
    "### Our first simple network\n",
    "Let's define a MLP. First we load the necessary libraries and then define the network. \n",
    "#### Definition of the network\n",
    "There are several ways to define a network in Lasagne. We use the easiest method using the `NeuralNet` class from the `nolearn.lasagne` package. Other ways are detailed in the examples [https://github.com/Lasagne/Lasagne/blob/master/examples/]\n",
    " of the Lasagne library. \n"
   ]
  },
  {
   "cell_type": "code",
   "execution_count": 5,
   "metadata": {
    "collapsed": false
   },
   "outputs": [],
   "source": [
    "from lasagne import layers\n",
    "from lasagne import nonlinearities\n",
    "from nolearn.lasagne import NeuralNet\n",
    "\n",
    "net1 = NeuralNet(\n",
    "    # Geometry of the network\n",
    "    layers=[\n",
    "        ('input', layers.InputLayer),\n",
    "        ('hidden1', layers.DenseLayer),\n",
    "        ('hidden2', layers.DenseLayer),\n",
    "        ('output', layers.DenseLayer),\n",
    "        ],\n",
    "    input_shape=(None, 1, PIXELS, PIXELS), #None in the first axis indicates that the batch size can be set later\n",
    "    hidden1_num_units=500,\n",
    "    hidden2_num_units=50,\n",
    "    output_num_units=10, output_nonlinearity=nonlinearities.softmax,\n",
    "\n",
    "    # learning rate parameters\n",
    "    update_learning_rate=0.01,\n",
    "    update_momentum=0.9,\n",
    "    regression=False,\n",
    "    # We only train for 10 epochs\n",
    "    max_epochs=100,\n",
    "    verbose=1,\n",
    "\n",
    "    # Training test-set split\n",
    "    eval_size = 0.2\n",
    "    )"
   ]
  },
  {
   "cell_type": "markdown",
   "metadata": {},
   "source": [
    "####Training of the net. \n",
    "\n",
    "After the definition of the network the network has to be trained. Therefore the data is split automatically into 80% training set and 20% test set (controlled by `eval_size=0.2`). We use the first 3000 samples as the training set.  "
   ]
  },
  {
   "cell_type": "code",
   "execution_count": 6,
   "metadata": {
    "collapsed": false,
    "scrolled": true
   },
   "outputs": [
    {
     "name": "stdout",
     "output_type": "stream",
     "text": [
      "  DenseLayer        \t(None, 10)          \tproduces      10 outputs\n",
      "  DenseLayer        \t(None, 50)          \tproduces      50 outputs\n",
      "  DenseLayer        \t(None, 500)         \tproduces     500 outputs\n",
      "  InputLayer        \t(None, 1, 28, 28)   \tproduces     784 outputs\n",
      "\n",
      " Epoch  |  Train loss  |  Valid loss  |  Train / Val  |  Valid acc  |  Dur\n",
      "--------|--------------|--------------|---------------|-------------|-------\n",
      "     1  |  \u001b[94m  1.521511\u001b[0m  |  \u001b[32m  0.720588\u001b[0m  |     2.111486  |     81.26%  |  0.1s\n",
      "     2  |  \u001b[94m  0.475192\u001b[0m  |  \u001b[32m  0.445516\u001b[0m  |     1.066611  |     86.43%  |  0.1s\n",
      "     3  |  \u001b[94m  0.280350\u001b[0m  |  \u001b[32m  0.387424\u001b[0m  |     0.723626  |     87.27%  |  0.1s\n",
      "     4  |  \u001b[94m  0.198154\u001b[0m  |  \u001b[32m  0.350649\u001b[0m  |     0.565105  |     88.99%  |  0.1s\n",
      "     5  |  \u001b[94m  0.148243\u001b[0m  |  \u001b[32m  0.330319\u001b[0m  |     0.448788  |     89.99%  |  0.1s\n",
      "     6  |  \u001b[94m  0.115779\u001b[0m  |  \u001b[32m  0.319296\u001b[0m  |     0.362608  |     90.30%  |  0.1s\n",
      "     7  |  \u001b[94m  0.092974\u001b[0m  |  \u001b[32m  0.311827\u001b[0m  |     0.298160  |     90.83%  |  0.1s\n",
      "     8  |  \u001b[94m  0.076037\u001b[0m  |  \u001b[32m  0.307374\u001b[0m  |     0.247375  |     90.83%  |  0.1s\n",
      "     9  |  \u001b[94m  0.063116\u001b[0m  |  \u001b[32m  0.304353\u001b[0m  |     0.207379  |     91.15%  |  0.1s\n",
      "    10  |  \u001b[94m  0.053145\u001b[0m  |  \u001b[32m  0.302048\u001b[0m  |     0.175950  |     90.93%  |  0.1s\n",
      "    11  |  \u001b[94m  0.045264\u001b[0m  |  \u001b[32m  0.300255\u001b[0m  |     0.150751  |     90.93%  |  0.1s\n",
      "    12  |  \u001b[94m  0.038981\u001b[0m  |  \u001b[32m  0.299162\u001b[0m  |     0.130302  |     91.08%  |  0.1s\n",
      "    13  |  \u001b[94m  0.033896\u001b[0m  |  \u001b[32m  0.298664\u001b[0m  |     0.113491  |     91.30%  |  0.1s\n",
      "    14  |  \u001b[94m  0.029761\u001b[0m  |  \u001b[32m  0.298059\u001b[0m  |     0.099850  |     91.24%  |  0.1s\n",
      "    15  |  \u001b[94m  0.026324\u001b[0m  |  \u001b[32m  0.297944\u001b[0m  |     0.088353  |     91.02%  |  0.1s\n",
      "    16  |  \u001b[94m  0.023465\u001b[0m  |  \u001b[32m  0.297870\u001b[0m  |     0.078775  |     91.02%  |  0.1s\n",
      "    17  |  \u001b[94m  0.021058\u001b[0m  |    0.297903  |     0.070688  |     91.24%  |  0.1s\n",
      "    18  |  \u001b[94m  0.019019\u001b[0m  |    0.298087  |     0.063805  |     91.24%  |  0.1s\n",
      "    19  |  \u001b[94m  0.017281\u001b[0m  |    0.298437  |     0.057906  |     91.24%  |  0.1s\n",
      "    20  |  \u001b[94m  0.015800\u001b[0m  |    0.298620  |     0.052911  |     91.24%  |  0.1s\n",
      "    21  |  \u001b[94m  0.014519\u001b[0m  |    0.298817  |     0.048587  |     91.24%  |  0.1s\n",
      "    22  |  \u001b[94m  0.013397\u001b[0m  |    0.299131  |     0.044785  |     91.08%  |  0.1s\n",
      "    23  |  \u001b[94m  0.012424\u001b[0m  |    0.299486  |     0.041486  |     91.08%  |  0.1s\n",
      "    24  |  \u001b[94m  0.011562\u001b[0m  |    0.299946  |     0.038548  |     91.08%  |  0.1s\n",
      "    25  |  \u001b[94m  0.010803\u001b[0m  |    0.300348  |     0.035967  |     91.08%  |  0.1s\n",
      "    26  |  \u001b[94m  0.010126\u001b[0m  |    0.300780  |     0.033665  |     91.08%  |  0.1s\n",
      "    27  |  \u001b[94m  0.009522\u001b[0m  |    0.301304  |     0.031604  |     91.08%  |  0.1s\n",
      "    28  |  \u001b[94m  0.008977\u001b[0m  |    0.301838  |     0.029742  |     91.08%  |  0.1s\n",
      "    29  |  \u001b[94m  0.008485\u001b[0m  |    0.302253  |     0.028072  |     91.08%  |  0.1s\n",
      "    30  |  \u001b[94m  0.008040\u001b[0m  |    0.302766  |     0.026554  |     91.08%  |  0.1s\n",
      "    31  |  \u001b[94m  0.007634\u001b[0m  |    0.303226  |     0.025177  |     91.24%  |  0.1s\n",
      "    32  |  \u001b[94m  0.007262\u001b[0m  |    0.303768  |     0.023908  |     91.24%  |  0.1s\n",
      "    33  |  \u001b[94m  0.006924\u001b[0m  |    0.304182  |     0.022762  |     91.24%  |  0.1s\n",
      "    34  |  \u001b[94m  0.006611\u001b[0m  |    0.304732  |     0.021696  |     91.24%  |  0.1s\n",
      "    35  |  \u001b[94m  0.006323\u001b[0m  |    0.305244  |     0.020714  |     91.24%  |  0.1s\n",
      "    36  |  \u001b[94m  0.006056\u001b[0m  |    0.305752  |     0.019806  |     91.24%  |  0.1s\n",
      "    37  |  \u001b[94m  0.005809\u001b[0m  |    0.306259  |     0.018967  |     91.24%  |  0.1s\n",
      "    38  |  \u001b[94m  0.005579\u001b[0m  |    0.306729  |     0.018190  |     91.24%  |  0.1s\n",
      "    39  |  \u001b[94m  0.005366\u001b[0m  |    0.307217  |     0.017465  |     91.24%  |  0.1s\n",
      "    40  |  \u001b[94m  0.005166\u001b[0m  |    0.307698  |     0.016789  |     91.24%  |  0.1s\n",
      "    41  |  \u001b[94m  0.004979\u001b[0m  |    0.308192  |     0.016156  |     91.24%  |  0.1s\n",
      "    42  |  \u001b[94m  0.004804\u001b[0m  |    0.308605  |     0.015567  |     91.24%  |  0.1s\n",
      "    43  |  \u001b[94m  0.004640\u001b[0m  |    0.309056  |     0.015013  |     91.24%  |  0.1s\n",
      "    44  |  \u001b[94m  0.004485\u001b[0m  |    0.309564  |     0.014489  |     91.24%  |  0.1s\n",
      "    45  |  \u001b[94m  0.004340\u001b[0m  |    0.310019  |     0.014000  |     91.24%  |  0.1s\n",
      "    46  |  \u001b[94m  0.004204\u001b[0m  |    0.310425  |     0.013541  |     91.24%  |  0.1s\n",
      "    47  |  \u001b[94m  0.004074\u001b[0m  |    0.310890  |     0.013104  |     91.24%  |  0.1s\n",
      "    48  |  \u001b[94m  0.003952\u001b[0m  |    0.311298  |     0.012695  |     91.24%  |  0.1s\n",
      "    49  |  \u001b[94m  0.003836\u001b[0m  |    0.311715  |     0.012306  |     91.24%  |  0.1s\n",
      "    50  |  \u001b[94m  0.003726\u001b[0m  |    0.312118  |     0.011938  |     91.24%  |  0.1s\n",
      "    51  |  \u001b[94m  0.003622\u001b[0m  |    0.312551  |     0.011587  |     91.24%  |  0.1s\n",
      "    52  |  \u001b[94m  0.003523\u001b[0m  |    0.312948  |     0.011256  |     91.24%  |  0.1s\n",
      "    53  |  \u001b[94m  0.003428\u001b[0m  |    0.313374  |     0.010939  |     91.24%  |  0.1s\n",
      "    54  |  \u001b[94m  0.003338\u001b[0m  |    0.313754  |     0.010640  |     91.24%  |  0.1s\n",
      "    55  |  \u001b[94m  0.003252\u001b[0m  |    0.314175  |     0.010351  |     91.24%  |  0.1s\n",
      "    56  |  \u001b[94m  0.003170\u001b[0m  |    0.314536  |     0.010080  |     91.24%  |  0.1s\n",
      "    57  |  \u001b[94m  0.003092\u001b[0m  |    0.314908  |     0.009820  |     91.24%  |  0.1s\n",
      "    58  |  \u001b[94m  0.003018\u001b[0m  |    0.315268  |     0.009572  |     91.24%  |  0.1s\n",
      "    59  |  \u001b[94m  0.002946\u001b[0m  |    0.315652  |     0.009332  |     91.24%  |  0.1s\n",
      "    60  |  \u001b[94m  0.002877\u001b[0m  |    0.316010  |     0.009105  |     91.24%  |  0.1s\n",
      "    61  |  \u001b[94m  0.002811\u001b[0m  |    0.316384  |     0.008886  |     91.24%  |  0.1s\n",
      "    62  |  \u001b[94m  0.002748\u001b[0m  |    0.316737  |     0.008677  |     91.24%  |  0.1s\n",
      "    63  |  \u001b[94m  0.002687\u001b[0m  |    0.317121  |     0.008474  |     91.24%  |  0.1s\n",
      "    64  |  \u001b[94m  0.002629\u001b[0m  |    0.317437  |     0.008283  |     91.40%  |  0.1s\n",
      "    65  |  \u001b[94m  0.002573\u001b[0m  |    0.317771  |     0.008098  |     91.40%  |  0.1s\n",
      "    66  |  \u001b[94m  0.002519\u001b[0m  |    0.318132  |     0.007919  |     91.40%  |  0.1s\n",
      "    67  |  \u001b[94m  0.002468\u001b[0m  |    0.318468  |     0.007748  |     91.40%  |  0.1s\n",
      "    68  |  \u001b[94m  0.002417\u001b[0m  |    0.318778  |     0.007583  |     91.40%  |  0.1s\n",
      "    69  |  \u001b[94m  0.002369\u001b[0m  |    0.319117  |     0.007425  |     91.40%  |  0.1s\n",
      "    70  |  \u001b[94m  0.002323\u001b[0m  |    0.319412  |     0.007273  |     91.40%  |  0.1s\n",
      "    71  |  \u001b[94m  0.002278\u001b[0m  |    0.319732  |     0.007125  |     91.24%  |  0.1s\n",
      "    72  |  \u001b[94m  0.002235\u001b[0m  |    0.320052  |     0.006983  |     91.24%  |  0.1s\n",
      "    73  |  \u001b[94m  0.002193\u001b[0m  |    0.320376  |     0.006846  |     91.24%  |  0.1s\n",
      "    74  |  \u001b[94m  0.002153\u001b[0m  |    0.320646  |     0.006714  |     91.08%  |  0.1s\n",
      "    75  |  \u001b[94m  0.002114\u001b[0m  |    0.320971  |     0.006586  |     91.24%  |  0.1s\n",
      "    76  |  \u001b[94m  0.002076\u001b[0m  |    0.321282  |     0.006461  |     91.24%  |  0.1s\n",
      "    77  |  \u001b[94m  0.002039\u001b[0m  |    0.321560  |     0.006342  |     91.24%  |  0.1s\n",
      "    78  |  \u001b[94m  0.002004\u001b[0m  |    0.321871  |     0.006226  |     91.24%  |  0.1s\n",
      "    79  |  \u001b[94m  0.001970\u001b[0m  |    0.322136  |     0.006114  |     91.24%  |  0.1s\n",
      "    80  |  \u001b[94m  0.001936\u001b[0m  |    0.322455  |     0.006005  |     91.24%  |  0.1s\n",
      "    81  |  \u001b[94m  0.001904\u001b[0m  |    0.322727  |     0.005900  |     91.24%  |  0.1s\n",
      "    82  |  \u001b[94m  0.001873\u001b[0m  |    0.323007  |     0.005798  |     91.24%  |  0.1s\n",
      "    83  |  \u001b[94m  0.001843\u001b[0m  |    0.323275  |     0.005700  |     91.24%  |  0.1s\n",
      "    84  |  \u001b[94m  0.001813\u001b[0m  |    0.323569  |     0.005603  |     91.24%  |  0.1s\n",
      "    85  |  \u001b[94m  0.001784\u001b[0m  |    0.323844  |     0.005510  |     91.24%  |  0.1s\n",
      "    86  |  \u001b[94m  0.001756\u001b[0m  |    0.324097  |     0.005420  |     91.24%  |  0.1s\n",
      "    87  |  \u001b[94m  0.001729\u001b[0m  |    0.324384  |     0.005332  |     91.24%  |  0.1s\n",
      "    88  |  \u001b[94m  0.001703\u001b[0m  |    0.324654  |     0.005246  |     91.24%  |  0.1s\n",
      "    89  |  \u001b[94m  0.001677\u001b[0m  |    0.324921  |     0.005163  |     91.24%  |  0.1s\n",
      "    90  |  \u001b[94m  0.001653\u001b[0m  |    0.325187  |     0.005082  |     91.24%  |  0.1s\n",
      "    91  |  \u001b[94m  0.001628\u001b[0m  |    0.325441  |     0.005004  |     91.24%  |  0.1s\n",
      "    92  |  \u001b[94m  0.001605\u001b[0m  |    0.325705  |     0.004927  |     91.24%  |  0.1s\n",
      "    93  |  \u001b[94m  0.001582\u001b[0m  |    0.325957  |     0.004853  |     91.46%  |  0.1s\n",
      "    94  |  \u001b[94m  0.001559\u001b[0m  |    0.326210  |     0.004780  |     91.46%  |  0.1s\n",
      "    95  |  \u001b[94m  0.001538\u001b[0m  |    0.326471  |     0.004710  |     91.46%  |  0.1s\n",
      "    96  |  \u001b[94m  0.001516\u001b[0m  |    0.326720  |     0.004641  |     91.46%  |  0.1s\n",
      "    97  |  \u001b[94m  0.001496\u001b[0m  |    0.326967  |     0.004575  |     91.46%  |  0.1s\n",
      "    98  |  \u001b[94m  0.001475\u001b[0m  |    0.327230  |     0.004509  |     91.46%  |  0.1s\n",
      "    99  |  \u001b[94m  0.001456\u001b[0m  |    0.327449  |     0.004446  |     91.46%  |  0.1s\n",
      "   100  |  \u001b[94m  0.001437\u001b[0m  |    0.327699  |     0.004384  |     91.46%  |  0.1s\n"
     ]
    },
    {
     "name": "stderr",
     "output_type": "stream",
     "text": [
      "/Library/Python/2.7/site-packages/lasagne/init.py:86: UserWarning: The uniform initializer no longer uses Glorot et al.'s approach to determine the bounds, but defaults to the range (-0.01, 0.01) instead. Please use the new GlorotUniform initializer to get the old behavior. GlorotUniform is now the default for all layers.\n",
      "  warnings.warn(\"The uniform initializer no longer uses Glorot et al.'s \"\n",
      "/Library/Python/2.7/site-packages/lasagne/layers/helper.py:69: UserWarning: get_all_layers() has been changed to return layers in topological order. The former implementation is still available as get_all_layers_old(), but will be removed before the first release of Lasagne. To ignore this warning, use `warnings.filterwarnings('ignore', '.*topo.*')`.\n",
      "  warnings.warn(\"get_all_layers() has been changed to return layers in \"\n",
      "/Library/Python/2.7/site-packages/lasagne/layers/base.py:99: UserWarning: layer.get_output_shape() is deprecated and will be removed for the first release of Lasagne. Please use layer.output_shape instead.\n",
      "  warnings.warn(\"layer.get_output_shape() is deprecated and will be \"\n",
      "/Library/Python/2.7/site-packages/lasagne/layers/base.py:109: UserWarning: layer.get_output(...) is deprecated and will be removed for the first release of Lasagne. Please use lasagne.layers.get_output(layer, ...) instead.\n",
      "  warnings.warn(\"layer.get_output(...) is deprecated and will be \"\n"
     ]
    }
   ],
   "source": [
    "net = net1.fit(X[0:3000,:,:,:],y[0:3000])"
   ]
  },
  {
   "cell_type": "markdown",
   "metadata": {},
   "source": [
    "### Fitting procedure / log loss\n",
    "The log-loss $J(\\theta)$ is calculated for the training-set and validation set. It is defined as follows:\n",
    "<img src=\"imgs/logloss.png\" width=\"700\"/>\n",
    "\n",
    "\n",
    "\n",
    "It is plotted for each epoch below. An  epoch is defined by touching each member of the training set once."
   ]
  },
  {
   "cell_type": "code",
   "execution_count": 7,
   "metadata": {
    "collapsed": false
   },
   "outputs": [
    {
     "name": "stdout",
     "output_type": "stream",
     "text": [
      "   epoch  train_loss  valid_accuracy  valid_loss\n",
      "0      1    1.521511        0.812586    0.720588\n",
      "1      2    0.475192        0.864251    0.445516\n",
      "2      3    0.280350        0.872699    0.387424\n",
      "3      4    0.198154        0.889887    0.350649\n",
      "4      5    0.148243        0.899897    0.330319\n",
      "    epoch  train_loss  valid_accuracy  valid_loss\n",
      "95     96    0.001516        0.914595    0.326720\n",
      "96     97    0.001496        0.914595    0.326967\n",
      "97     98    0.001475        0.914595    0.327230\n",
      "98     99    0.001456        0.914595    0.327449\n",
      "99    100    0.001437        0.914595    0.327699\n"
     ]
    },
    {
     "data": {
      "text/plain": [
       "<matplotlib.axes.AxesSubplot at 0x1197ff790>"
      ]
     },
     "execution_count": 7,
     "metadata": {},
     "output_type": "execute_result"
    },
    {
     "data": {
      "image/png": "[encoded data removed]",
      "text/plain": [
       "<matplotlib.figure.Figure at 0x1197ff410>"
      ]
     },
     "metadata": {},
     "output_type": "display_data"
    }
   ],
   "source": [
    "%matplotlib inline\n",
    "import pandas as pd\n",
    "df = pd.DataFrame(net.train_history_)\n",
    "print(df.head())\n",
    "print(df.tail())\n",
    "df[['train_loss','valid_loss','valid_accuracy']].plot(title='Performance during Training', ylim=(0,0.95))"
   ]
  },
  {
   "cell_type": "markdown",
   "metadata": {},
   "source": [
    "## Task 1 (evaluate the learning phase)\n",
    "* What is the value of the log-loss for perfect classification?\n",
    "* [optional] What is the value for the log-loss for random assignment to the classes?\n",
    "* Describe the form of the curve"
   ]
  },
  {
   "cell_type": "markdown",
   "metadata": {},
   "source": [
    "## Task 1 (LSG)\n",
    "* 0 since log(1)=0\n",
    "* For random assinment the probability for each class ist 1/10. So ln(1/10) = -2.3. Hence J = 2.3\n",
    "* The training loss reaches the optimal value of 0 but the validation loss on the untouched validation set goes to goes up a again. This indicates overfitting to the training set."
   ]
  },
  {
   "cell_type": "markdown",
   "metadata": {},
   "source": [
    "## Task 2 (evaluate on testset)\n",
    "Now that we have fixed the weights of the network, we can make predictions on the unseen data in the row 3000-4000 and evaluate the performance. You can use `net.predict`"
   ]
  },
  {
   "cell_type": "code",
   "execution_count": 8,
   "metadata": {
    "collapsed": false
   },
   "outputs": [
    {
     "data": {
      "text/plain": [
       "0.92300000000000004"
      ]
     },
     "execution_count": 8,
     "metadata": {},
     "output_type": "execute_result"
    }
   ],
   "source": [
    "np.mean(net.predict(X[3000:4000,:,:,:]) == y[3000:4000])"
   ]
  },
  {
   "cell_type": "markdown",
   "metadata": {},
   "source": [
    "## Misc (just try to understand the code)\n",
    "\n",
    "Note that the softmax layer assigns the following probabilities to the for the classes $i = 0,1,\\ldots,9$ \n",
    "\n",
    "$\n",
    "   p_i(\\text{input image}) =  \\frac{e^{z_i}}{\\sum_{j=0}^9 e^{z_j}}\n",
    "$\n",
    "\n",
    "which he can obtain for a set of indices like via `net.predict_proba(X[toTest,:,:,:])`. The index with maximum probability is the predicted class and can be obtained by `net1.predict(X[toTest,:,:,:])`."
   ]
  },
  {
   "cell_type": "code",
   "execution_count": 9,
   "metadata": {
    "collapsed": false
   },
   "outputs": [
    {
     "name": "stdout",
     "output_type": "stream",
     "text": [
      "[0 8 8 1 3 2 5 7 4 8 8 0 3 8 0 0 2 4 1 9 0 9 2 0 5]\n",
      "[[  9.98994350e-01   8.27815043e-08   1.39464319e-04   5.64406473e-05\n",
      "    3.21627425e-07   1.90213359e-05   5.09600250e-05   8.01888473e-06\n",
      "    7.00854464e-04   3.04607183e-05]\n",
      " [  8.53041303e-04   6.35988617e-05   2.43164822e-01   3.21212597e-02\n",
      "    5.76937431e-03   4.64971457e-03   1.00540686e-02   1.70999482e-01\n",
      "    4.20066714e-01   1.12257898e-01]\n",
      " [  2.17884910e-08   2.53272020e-07   2.87327371e-08   2.00727783e-07\n",
      "    2.07591047e-08   2.03568216e-05   1.07033785e-07   1.90274185e-10\n",
      "    9.99979019e-01   6.67910571e-09]\n",
      " [  8.47930504e-10   9.99972582e-01   2.35112338e-07   2.21639893e-05\n",
      "    9.54315055e-07   1.72435921e-09   2.52479526e-06   4.05404052e-07\n",
      "    2.43613982e-07   8.77339517e-07]]\n"
     ]
    },
    {
     "data": {
      "text/plain": [
       "0"
      ]
     },
     "execution_count": 9,
     "metadata": {},
     "output_type": "execute_result"
    }
   ],
   "source": [
    "toTest = range(3001,3026) #Some indices we would like to have a look into\n",
    "preds = net1.predict(X[toTest,:,:,:])\n",
    "print(preds) #The predictions for the different classes \n",
    "print(net.predict_proba(X[toTest,:,:,:])[0:4]) #The probabilities from the softmax layer.\n",
    "np.argmax(net.predict_proba(X[toTest,:,:,:])[0])"
   ]
  },
  {
   "cell_type": "markdown",
   "metadata": {},
   "source": [
    "####Let's look at the correponding images.\n",
    "Shown is the predicted value and the true value in parenthesis."
   ]
  },
  {
   "cell_type": "code",
   "execution_count": 21,
   "metadata": {
    "collapsed": false
   },
   "outputs": [
    {
     "data": {
      "image/png": "[encoded data removed]",
      "text/plain": [
       "<matplotlib.figure.Figure at 0x1159ea850>"
      ]
     },
     "metadata": {},
     "output_type": "display_data"
    }
   ],
   "source": [
    "fig = plt.figure(figsize=(10,10))\n",
    "for i,num in enumerate(toTest):\n",
    "    a=fig.add_subplot(5,5,(i+1)) #NB the one based API sucks!\n",
    "    plt.axis('off')\n",
    "    a.set_title(str(preds[i]) + \" (\" + str(y[num]) + \")\")\n",
    "    plt.imshow(-X[num,0,:,:], interpolation='none',cmap=plt.get_cmap('gray'))"
   ]
  },
  {
   "cell_type": "markdown",
   "metadata": {
    "collapsed": true
   },
   "source": [
    "In the notebook [MinimalLasagneCNN.ipynb](MinimalLasagneCNN.ipynb) we show how to use a CNN."
   ]
  }
 ],
 "metadata": {
  "kernelspec": {
   "display_name": "Python 2",
   "language": "python",
   "name": "python2"
  },
  "language_info": {
   "codemirror_mode": {
    "name": "ipython",
    "version": 2
   },
   "file_extension": ".py",
   "mimetype": "text/x-python",
   "name": "python",
   "nbconvert_exporter": "python",
   "pygments_lexer": "ipython2",
   "version": "2.7.10"
  }
 },
 "nbformat": 4,
 "nbformat_minor": 0
}
