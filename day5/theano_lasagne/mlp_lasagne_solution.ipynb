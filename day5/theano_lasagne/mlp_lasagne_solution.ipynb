{
 "cells": [
  {
   "cell_type": "markdown",
   "metadata": {},
   "source": [
    "# Plain vanilla Lasagne \n",
    "This notebook demonstrates who to use plain vanila lasgane, without the nolearn helper functions, for a multilayer perceptorn\n",
    "\n",
    "\n",
    "# Minimal Lasagne Demo (multilayer perceptron)\n",
    "In this script we build a small multilayer perceptron with two hidden layers having 500 and 50 neurons each for classifying the MNIST database of handwritten digits. It uses plain vanilla lasagne, it's meant for an introduction and thus does not uses fancy stuff such as dropout layers. The code has been taken from: https://github.com/Lasagne/Lasagne/blob/master/examples/mnist.py\n",
    "\n",
    "\n",
    "## Loading the data\n",
    "While the original dataset has 70'000 examples of hand written digits (see below for loading) we restrict us here to the first 4000 digits so that an interactive session is possible. The subset of the first 4000 MNIST examples is provided in the repository for convenience. \n",
    "\n",
    "### Data-Format\n",
    "For Lasagne all images must be provided in a 4-dimensional array X with the following dimensions (number of images, number of colors, x, y) and the labels in a vector y of same size. So X[1,0,1,2] would be the image number 1, the color channel 0 and the pixel x = 1 and y=2."
   ]
  },
  {
   "cell_type": "code",
   "execution_count": 1,
   "metadata": {
    "collapsed": false
   },
   "outputs": [
    {
     "data": {
      "text/plain": [
       "((4000, 1, 28, 28), (4000,), 28)"
      ]
     },
     "execution_count": 1,
     "metadata": {},
     "output_type": "execute_result"
    }
   ],
   "source": [
    "%matplotlib inline\n",
    "import numpy as np\n",
    "import matplotlib.pyplot as plt\n",
    "import matplotlib.image as imgplot\n",
    "import numpy as np\n",
    "import theano\n",
    "import theano.tensor as T\n",
    "import lasagne\n",
    "import cPickle as pickle\n",
    "import gzip\n",
    "import time\n",
    "\n",
    "with gzip.open('../mnist_4000.pkl.gz', 'rb') as f:\n",
    "    (X,y) = pickle.load(f)\n",
    "PIXELS = len(X[0,0,0,:])\n",
    "X.shape, y.shape, PIXELS"
   ]
  },
  {
   "cell_type": "code",
   "execution_count": 2,
   "metadata": {
    "collapsed": false
   },
   "outputs": [
    {
     "data": {
      "text/plain": [
       "1.0584806"
      ]
     },
     "execution_count": 2,
     "metadata": {},
     "output_type": "execute_result"
    }
   ],
   "source": [
    "X[0,0,15,16] "
   ]
  },
  {
   "cell_type": "markdown",
   "metadata": {},
   "source": [
    "### Normalization of the data\n",
    "The data is normalized so that each pixel has mean 0 and standard deviation close to 1 (calculated over all images). This has been done with the following code (the 0th axis is along the images): \n",
    "```\n",
    "    Xmean = X.mean(axis = 0)\n",
    "    XStd = np.sqrt(X.var(axis=0))\n",
    "    X = (X-Xmean)/(XStd + 0.01)\n",
    "```\n",
    "Note that with this normalization the mean values of all pixels of a single image need not be 0.\n"
   ]
  },
  {
   "cell_type": "code",
   "execution_count": 3,
   "metadata": {
    "collapsed": false
   },
   "outputs": [
    {
     "data": {
      "text/plain": [
       "(0.046298616, 0.0, 0.0, 0.93183041)"
      ]
     },
     "execution_count": 3,
     "metadata": {},
     "output_type": "execute_result"
    }
   ],
   "source": [
    "np.mean(X[0,0,:,:]),np.mean(X[:,0,1,1]),np.mean(X[:,0,2,1]),np.var(X[:,0,10,10])"
   ]
  },
  {
   "cell_type": "markdown",
   "metadata": {},
   "source": [
    "##### Let s plot the first few images and label"
   ]
  },
  {
   "cell_type": "code",
   "execution_count": 4,
   "metadata": {
    "collapsed": false
   },
   "outputs": [
    {
     "data": {
      "text/plain": [
       "array([5, 0, 4, 1, 9, 2, 1, 3, 1, 4], dtype=int32)"
      ]
     },
     "execution_count": 4,
     "metadata": {},
     "output_type": "execute_result"
    }
   ],
   "source": [
    "y[0:10]"
   ]
  },
  {
   "cell_type": "code",
   "execution_count": 5,
   "metadata": {
    "collapsed": false,
    "scrolled": true
   },
   "outputs": [
    {
     "data": {
      "image/png": "[encoded data removed]",
      "text/plain": [
       "<matplotlib.figure.Figure at 0x10efcf750>"
      ]
     },
     "metadata": {},
     "output_type": "display_data"
    }
   ],
   "source": [
    "fig = plt.figure(figsize=(10,30))\n",
    "for i in range(3):\n",
    "    a=fig.add_subplot(1,3,(i+1))\n",
    "    plt.imshow(-X[i,0,:,:], interpolation='none',cmap=plt.get_cmap('gray'))"
   ]
  },
  {
   "cell_type": "markdown",
   "metadata": {},
   "source": [
    "Note that the backgound is not uniform. That is due to the batchnormalization."
   ]
  },
  {
   "cell_type": "markdown",
   "metadata": {},
   "source": [
    "# Our first simple network\n",
    "Let's define a MLP. We start with the architecture. All we do until the compling is using symbolic functions.\n",
    "\n",
    "#### Definition of the network (architecture)\n",
    "\n",
    "* An Input Layer with the following 4-dimensions: \n",
    "    * 0: Batch Size yet unkown hence `None`\n",
    "    * 1: one \"color\" channel\n",
    "    * 2,3: (28,28) pixels\n",
    "* A hidden layer with 500 units\n",
    "* A second hidden layer with 50 units\n",
    "* An output layer with 10 units\n",
    "\n"
   ]
  },
  {
   "cell_type": "code",
   "execution_count": 6,
   "metadata": {
    "collapsed": false
   },
   "outputs": [
    {
     "name": "stderr",
     "output_type": "stream",
     "text": [
      "/Library/Python/2.7/site-packages/lasagne/init.py:86: UserWarning: The uniform initializer no longer uses Glorot et al.'s approach to determine the bounds, but defaults to the range (-0.01, 0.01) instead. Please use the new GlorotUniform initializer to get the old behavior. GlorotUniform is now the default for all layers.\n",
      "  warnings.warn(\"The uniform initializer no longer uses Glorot et al.'s \"\n"
     ]
    }
   ],
   "source": [
    "input_var = T.tensor4('inputs') #This is a variable needed \n",
    "# 1st Layer\n",
    "l_in = lasagne.layers.InputLayer(shape=(None, 1, 28, 28), input_var=input_var) #None depend on batch size\n",
    "# 2nd Layer\n",
    "l_hid1 = lasagne.layers.DenseLayer(l_in, num_units=500, nonlinearity=lasagne.nonlinearities.sigmoid)\n",
    "# 3rd Layer\n",
    "l_hid2 = lasagne.layers.DenseLayer(l_hid1, num_units=50, nonlinearity=lasagne.nonlinearities.sigmoid)\n",
    "# Last Layer\n",
    "network = lasagne.layers.DenseLayer(l_hid2, num_units=10, nonlinearity=lasagne.nonlinearities.softmax)"
   ]
  },
  {
   "cell_type": "markdown",
   "metadata": {},
   "source": [
    "#### Loss Function\n",
    "To optimize the network we use the log-loss of the last layer. The log loss in lasagne is called 'lasagne.objectives.categorical_crossentropy'. "
   ]
  },
  {
   "cell_type": "code",
   "execution_count": 7,
   "metadata": {
    "collapsed": false
   },
   "outputs": [
    {
     "name": "stderr",
     "output_type": "stream",
     "text": [
      "/Library/Python/2.7/site-packages/lasagne/layers/helper.py:69: UserWarning: get_all_layers() has been changed to return layers in topological order. The former implementation is still available as get_all_layers_old(), but will be removed before the first release of Lasagne. To ignore this warning, use `warnings.filterwarnings('ignore', '.*topo.*')`.\n",
      "  warnings.warn(\"get_all_layers() has been changed to return layers in \"\n"
     ]
    }
   ],
   "source": [
    "target_var = T.ivector('targets') #The classes 0..9\n",
    "prediction = lasagne.layers.get_output(network)\n",
    "loss = lasagne.objectives.categorical_crossentropy(prediction, target_var)\n",
    "loss = loss.mean()"
   ]
  },
  {
   "cell_type": "markdown",
   "metadata": {},
   "source": [
    "#### Controlling the learning\n",
    "Create update expressions for training, i.e., how to modify the parameters at each training step. Here, we'll use Stochastic Gradient Descent (SGD) with Nesterov momentum, but Lasagne offers plenty more."
   ]
  },
  {
   "cell_type": "code",
   "execution_count": 8,
   "metadata": {
    "collapsed": true
   },
   "outputs": [],
   "source": [
    "params = lasagne.layers.get_all_params(network, trainable=True)\n",
    "updates = lasagne.updates.nesterov_momentum(loss, params, learning_rate=0.01, momentum=0.9)"
   ]
  },
  {
   "cell_type": "markdown",
   "metadata": {},
   "source": [
    "#### Compiling the function for training\n",
    "We know have everything in place to compile a function describing the training."
   ]
  },
  {
   "cell_type": "code",
   "execution_count": 9,
   "metadata": {
    "collapsed": false
   },
   "outputs": [],
   "source": [
    "train_fn = theano.function([input_var, target_var], loss, updates=updates)"
   ]
  },
  {
   "cell_type": "markdown",
   "metadata": {},
   "source": [
    "#### Compling a function for testing"
   ]
  },
  {
   "cell_type": "code",
   "execution_count": 10,
   "metadata": {
    "collapsed": false
   },
   "outputs": [],
   "source": [
    "test_prediction = lasagne.layers.get_output(network, deterministic=True)\n",
    "test_loss = lasagne.objectives.categorical_crossentropy(test_prediction,target_var)\n",
    "test_loss = test_loss.mean()\n",
    "# As a bonus, also create an expression for the classification accuracy:\n",
    "test_acc = T.mean(T.eq(T.argmax(test_prediction, axis=1), target_var), dtype=theano.config.floatX)\n",
    "val_fn = theano.function([input_var, target_var], [test_loss, test_acc])"
   ]
  },
  {
   "cell_type": "markdown",
   "metadata": {},
   "source": [
    "### Training the model\n",
    "After the definition of the network the network has to be trained. We use the first 2400 samples for training and the 600 images from 2400-3000 for validation.  "
   ]
  },
  {
   "cell_type": "code",
   "execution_count": 11,
   "metadata": {
    "collapsed": true
   },
   "outputs": [],
   "source": [
    "X_train = X[0:2400,:,:,:]\n",
    "X_val   = X[2400:3000,:,:,:]\n",
    "y_train = y[0:2400]\n",
    "y_val = y[2400:3000]"
   ]
  },
  {
   "cell_type": "code",
   "execution_count": 12,
   "metadata": {
    "collapsed": true
   },
   "outputs": [],
   "source": [
    "############################## Batch iterator ###############################\n",
    "# This is just a simple helper function iterating over training data in\n",
    "# mini-batches of a particular size, optionally in random order. It assumes\n",
    "# data is available as numpy arrays. For big datasets, you could load numpy\n",
    "# arrays as memory-mapped files (np.load(..., mmap_mode='r')), or write your\n",
    "# own custom data iteration function. For small datasets, you can also copy\n",
    "# them to GPU at once for slightly improved performance. This would involve\n",
    "# several changes in the main program, though, and is not demonstrated here.\n",
    "\n",
    "def iterate_minibatches(inputs, targets, batchsize, shuffle=False):\n",
    "    assert len(inputs) == len(targets)\n",
    "    if shuffle:\n",
    "        indices = np.arange(len(inputs))\n",
    "        np.random.shuffle(indices)\n",
    "    for start_idx in range(0, len(inputs) - batchsize + 1, batchsize):\n",
    "        if shuffle:\n",
    "            excerpt = indices[start_idx:start_idx + batchsize]\n",
    "        else:\n",
    "            excerpt = slice(start_idx, start_idx + batchsize)\n",
    "        yield inputs[excerpt], targets[excerpt]"
   ]
  },
  {
   "cell_type": "code",
   "execution_count": 13,
   "metadata": {
    "collapsed": false
   },
   "outputs": [],
   "source": [
    "import pandas as pd\n",
    "perf = pd.DataFrame(columns=['train_loss','valid_loss','valid_accuracy'])"
   ]
  },
  {
   "cell_type": "code",
   "execution_count": 14,
   "metadata": {
    "collapsed": false
   },
   "outputs": [
    {
     "name": "stdout",
     "output_type": "stream",
     "text": [
      "Epoch 1 of 100 took 0.163s\n",
      "  training loss:\t\t2.285374\n",
      "  validation loss:\t\t1.091113\n",
      "  validation accuracy:\t\t21.00 %\n",
      "Epoch 2 of 100 took 0.152s\n",
      "  training loss:\t\t2.100532\n",
      "  validation loss:\t\t0.996479\n",
      "  validation accuracy:\t\t62.83 %\n",
      "Epoch 3 of 100 took 0.147s\n",
      "  training loss:\t\t1.909607\n",
      "  validation loss:\t\t0.894727\n",
      "  validation accuracy:\t\t69.67 %\n",
      "Epoch 4 of 100 took 0.144s\n",
      "  training loss:\t\t1.702203\n",
      "  validation loss:\t\t0.787833\n",
      "  validation accuracy:\t\t73.33 %\n",
      "Epoch 5 of 100 took 0.144s\n",
      "  training loss:\t\t1.495270\n",
      "  validation loss:\t\t0.688070\n",
      "  validation accuracy:\t\t73.67 %\n",
      "Epoch 6 of 100 took 0.142s\n",
      "  training loss:\t\t1.304386\n",
      "  validation loss:\t\t0.601403\n",
      "  validation accuracy:\t\t76.50 %\n",
      "Epoch 7 of 100 took 0.144s\n",
      "  training loss:\t\t1.140071\n",
      "  validation loss:\t\t0.527516\n",
      "  validation accuracy:\t\t78.17 %\n",
      "Epoch 8 of 100 took 0.139s\n",
      "  training loss:\t\t1.003855\n",
      "  validation loss:\t\t0.469065\n",
      "  validation accuracy:\t\t81.83 %\n",
      "Epoch 9 of 100 took 0.142s\n",
      "  training loss:\t\t0.893384\n",
      "  validation loss:\t\t0.422522\n",
      "  validation accuracy:\t\t83.33 %\n",
      "Epoch 10 of 100 took 0.158s\n",
      "  training loss:\t\t0.805140\n",
      "  validation loss:\t\t0.385958\n",
      "  validation accuracy:\t\t83.50 %\n",
      "Epoch 11 of 100 took 0.141s\n",
      "  training loss:\t\t0.732107\n",
      "  validation loss:\t\t0.354443\n",
      "  validation accuracy:\t\t84.17 %\n",
      "Epoch 12 of 100 took 0.153s\n",
      "  training loss:\t\t0.673126\n",
      "  validation loss:\t\t0.330976\n",
      "  validation accuracy:\t\t83.83 %\n",
      "Epoch 13 of 100 took 0.140s\n",
      "  training loss:\t\t0.623157\n",
      "  validation loss:\t\t0.311107\n",
      "  validation accuracy:\t\t84.83 %\n",
      "Epoch 14 of 100 took 0.142s\n",
      "  training loss:\t\t0.581427\n",
      "  validation loss:\t\t0.295079\n",
      "  validation accuracy:\t\t85.17 %\n",
      "Epoch 15 of 100 took 0.141s\n",
      "  training loss:\t\t0.545329\n",
      "  validation loss:\t\t0.278929\n",
      "  validation accuracy:\t\t86.17 %\n",
      "Epoch 16 of 100 took 0.140s\n",
      "  training loss:\t\t0.514590\n",
      "  validation loss:\t\t0.269195\n",
      "  validation accuracy:\t\t85.17 %\n",
      "Epoch 17 of 100 took 0.140s\n",
      "  training loss:\t\t0.486901\n",
      "  validation loss:\t\t0.257007\n",
      "  validation accuracy:\t\t86.83 %\n",
      "Epoch 18 of 100 took 0.141s\n",
      "  training loss:\t\t0.463256\n",
      "  validation loss:\t\t0.246955\n",
      "  validation accuracy:\t\t87.00 %\n",
      "Epoch 19 of 100 took 0.145s\n",
      "  training loss:\t\t0.442218\n",
      "  validation loss:\t\t0.239686\n",
      "  validation accuracy:\t\t87.67 %\n",
      "Epoch 20 of 100 took 0.141s\n",
      "  training loss:\t\t0.423653\n",
      "  validation loss:\t\t0.232710\n",
      "  validation accuracy:\t\t87.83 %\n",
      "Epoch 21 of 100 took 0.142s\n",
      "  training loss:\t\t0.407129\n",
      "  validation loss:\t\t0.227932\n",
      "  validation accuracy:\t\t87.67 %\n",
      "Epoch 22 of 100 took 0.141s\n",
      "  training loss:\t\t0.390284\n",
      "  validation loss:\t\t0.221375\n",
      "  validation accuracy:\t\t88.33 %\n",
      "Epoch 23 of 100 took 0.144s\n",
      "  training loss:\t\t0.375806\n",
      "  validation loss:\t\t0.216312\n",
      "  validation accuracy:\t\t88.33 %\n",
      "Epoch 24 of 100 took 0.158s\n",
      "  training loss:\t\t0.363372\n",
      "  validation loss:\t\t0.213110\n",
      "  validation accuracy:\t\t88.33 %\n",
      "Epoch 25 of 100 took 0.143s\n",
      "  training loss:\t\t0.351683\n",
      "  validation loss:\t\t0.207724\n",
      "  validation accuracy:\t\t88.67 %\n",
      "Epoch 26 of 100 took 0.143s\n",
      "  training loss:\t\t0.340696\n",
      "  validation loss:\t\t0.204076\n",
      "  validation accuracy:\t\t88.50 %\n",
      "Epoch 27 of 100 took 0.152s\n",
      "  training loss:\t\t0.330611\n",
      "  validation loss:\t\t0.199788\n",
      "  validation accuracy:\t\t89.00 %\n",
      "Epoch 28 of 100 took 0.150s\n",
      "  training loss:\t\t0.321272\n",
      "  validation loss:\t\t0.198498\n",
      "  validation accuracy:\t\t88.83 %\n",
      "Epoch 29 of 100 took 0.143s\n",
      "  training loss:\t\t0.311855\n",
      "  validation loss:\t\t0.194816\n",
      "  validation accuracy:\t\t89.17 %\n",
      "Epoch 30 of 100 took 0.157s\n",
      "  training loss:\t\t0.303576\n",
      "  validation loss:\t\t0.193171\n",
      "  validation accuracy:\t\t89.33 %\n",
      "Epoch 31 of 100 took 0.185s\n",
      "  training loss:\t\t0.295467\n",
      "  validation loss:\t\t0.189775\n",
      "  validation accuracy:\t\t89.33 %\n",
      "Epoch 32 of 100 took 0.157s\n",
      "  training loss:\t\t0.287239\n",
      "  validation loss:\t\t0.189045\n",
      "  validation accuracy:\t\t89.33 %\n",
      "Epoch 33 of 100 took 0.173s\n",
      "  training loss:\t\t0.281477\n",
      "  validation loss:\t\t0.186517\n",
      "  validation accuracy:\t\t89.33 %\n",
      "Epoch 34 of 100 took 0.157s\n",
      "  training loss:\t\t0.274610\n",
      "  validation loss:\t\t0.184397\n",
      "  validation accuracy:\t\t89.67 %\n",
      "Epoch 35 of 100 took 0.143s\n",
      "  training loss:\t\t0.267700\n",
      "  validation loss:\t\t0.182644\n",
      "  validation accuracy:\t\t89.67 %\n",
      "Epoch 36 of 100 took 0.142s\n",
      "  training loss:\t\t0.261380\n",
      "  validation loss:\t\t0.181642\n",
      "  validation accuracy:\t\t89.83 %\n",
      "Epoch 37 of 100 took 0.144s\n",
      "  training loss:\t\t0.255566\n",
      "  validation loss:\t\t0.179415\n",
      "  validation accuracy:\t\t89.83 %\n",
      "Epoch 38 of 100 took 0.138s\n",
      "  training loss:\t\t0.249643\n",
      "  validation loss:\t\t0.178458\n",
      "  validation accuracy:\t\t89.83 %\n",
      "Epoch 39 of 100 took 0.160s\n",
      "  training loss:\t\t0.245081\n",
      "  validation loss:\t\t0.177803\n",
      "  validation accuracy:\t\t90.00 %\n",
      "Epoch 40 of 100 took 0.154s\n",
      "  training loss:\t\t0.239730\n",
      "  validation loss:\t\t0.176023\n",
      "  validation accuracy:\t\t90.17 %\n",
      "Epoch 41 of 100 took 0.139s\n",
      "  training loss:\t\t0.234726\n",
      "  validation loss:\t\t0.174354\n",
      "  validation accuracy:\t\t90.17 %\n",
      "Epoch 42 of 100 took 0.139s\n",
      "  training loss:\t\t0.230798\n",
      "  validation loss:\t\t0.174905\n",
      "  validation accuracy:\t\t90.17 %\n",
      "Epoch 43 of 100 took 0.136s\n",
      "  training loss:\t\t0.225612\n",
      "  validation loss:\t\t0.172789\n",
      "  validation accuracy:\t\t90.33 %\n",
      "Epoch 44 of 100 took 0.150s\n",
      "  training loss:\t\t0.220726\n",
      "  validation loss:\t\t0.172189\n",
      "  validation accuracy:\t\t90.33 %\n",
      "Epoch 45 of 100 took 0.151s\n",
      "  training loss:\t\t0.216885\n",
      "  validation loss:\t\t0.171472\n",
      "  validation accuracy:\t\t90.33 %\n",
      "Epoch 46 of 100 took 0.152s\n",
      "  training loss:\t\t0.213091\n",
      "  validation loss:\t\t0.170846\n",
      "  validation accuracy:\t\t90.50 %\n",
      "Epoch 47 of 100 took 0.153s\n",
      "  training loss:\t\t0.209737\n",
      "  validation loss:\t\t0.169972\n",
      "  validation accuracy:\t\t90.67 %\n",
      "Epoch 48 of 100 took 0.138s\n",
      "  training loss:\t\t0.204803\n",
      "  validation loss:\t\t0.168697\n",
      "  validation accuracy:\t\t90.50 %\n",
      "Epoch 49 of 100 took 0.146s\n",
      "  training loss:\t\t0.201860\n",
      "  validation loss:\t\t0.168238\n",
      "  validation accuracy:\t\t90.50 %\n",
      "Epoch 50 of 100 took 0.135s\n",
      "  training loss:\t\t0.197603\n",
      "  validation loss:\t\t0.167298\n",
      "  validation accuracy:\t\t90.83 %\n",
      "Epoch 51 of 100 took 0.135s\n",
      "  training loss:\t\t0.193622\n",
      "  validation loss:\t\t0.167556\n",
      "  validation accuracy:\t\t90.50 %\n",
      "Epoch 52 of 100 took 0.134s\n",
      "  training loss:\t\t0.190542\n",
      "  validation loss:\t\t0.166277\n",
      "  validation accuracy:\t\t90.83 %\n",
      "Epoch 53 of 100 took 0.140s\n",
      "  training loss:\t\t0.187135\n",
      "  validation loss:\t\t0.165565\n",
      "  validation accuracy:\t\t91.00 %\n",
      "Epoch 54 of 100 took 0.137s\n",
      "  training loss:\t\t0.183923\n",
      "  validation loss:\t\t0.165499\n",
      "  validation accuracy:\t\t90.67 %\n",
      "Epoch 55 of 100 took 0.136s\n",
      "  training loss:\t\t0.181392\n",
      "  validation loss:\t\t0.165298\n",
      "  validation accuracy:\t\t91.17 %\n",
      "Epoch 56 of 100 took 0.135s\n",
      "  training loss:\t\t0.177382\n",
      "  validation loss:\t\t0.164202\n",
      "  validation accuracy:\t\t91.17 %\n",
      "Epoch 57 of 100 took 0.135s\n",
      "  training loss:\t\t0.174773\n",
      "  validation loss:\t\t0.164051\n",
      "  validation accuracy:\t\t91.00 %\n",
      "Epoch 58 of 100 took 0.134s\n",
      "  training loss:\t\t0.171907\n",
      "  validation loss:\t\t0.163157\n",
      "  validation accuracy:\t\t91.00 %\n",
      "Epoch 59 of 100 took 0.135s\n",
      "  training loss:\t\t0.168878\n",
      "  validation loss:\t\t0.163538\n",
      "  validation accuracy:\t\t91.17 %\n",
      "Epoch 60 of 100 took 0.135s\n",
      "  training loss:\t\t0.166877\n",
      "  validation loss:\t\t0.163241\n",
      "  validation accuracy:\t\t90.83 %\n",
      "Epoch 61 of 100 took 0.135s\n",
      "  training loss:\t\t0.163368\n",
      "  validation loss:\t\t0.163185\n",
      "  validation accuracy:\t\t91.00 %\n",
      "Epoch 62 of 100 took 0.135s\n",
      "  training loss:\t\t0.160819\n",
      "  validation loss:\t\t0.162799\n",
      "  validation accuracy:\t\t91.00 %\n",
      "Epoch 63 of 100 took 0.136s\n",
      "  training loss:\t\t0.158569\n",
      "  validation loss:\t\t0.161995\n",
      "  validation accuracy:\t\t91.00 %\n",
      "Epoch 64 of 100 took 0.135s\n",
      "  training loss:\t\t0.155992\n",
      "  validation loss:\t\t0.162255\n",
      "  validation accuracy:\t\t91.00 %\n",
      "Epoch 65 of 100 took 0.135s\n",
      "  training loss:\t\t0.153501\n",
      "  validation loss:\t\t0.161879\n",
      "  validation accuracy:\t\t91.00 %\n",
      "Epoch 66 of 100 took 0.137s\n",
      "  training loss:\t\t0.151430\n",
      "  validation loss:\t\t0.161632\n",
      "  validation accuracy:\t\t91.00 %\n",
      "Epoch 67 of 100 took 0.135s\n",
      "  training loss:\t\t0.148783\n",
      "  validation loss:\t\t0.161593\n",
      "  validation accuracy:\t\t91.00 %\n",
      "Epoch 68 of 100 took 0.134s\n",
      "  training loss:\t\t0.146798\n",
      "  validation loss:\t\t0.160746\n",
      "  validation accuracy:\t\t91.17 %\n",
      "Epoch 69 of 100 took 0.135s\n",
      "  training loss:\t\t0.144323\n",
      "  validation loss:\t\t0.160975\n",
      "  validation accuracy:\t\t91.17 %\n",
      "Epoch 70 of 100 took 0.136s\n",
      "  training loss:\t\t0.142287\n",
      "  validation loss:\t\t0.160725\n",
      "  validation accuracy:\t\t91.17 %\n",
      "Epoch 71 of 100 took 0.135s\n",
      "  training loss:\t\t0.140078\n",
      "  validation loss:\t\t0.160862\n",
      "  validation accuracy:\t\t91.17 %\n",
      "Epoch 72 of 100 took 0.137s\n",
      "  training loss:\t\t0.138752\n",
      "  validation loss:\t\t0.160211\n",
      "  validation accuracy:\t\t91.00 %\n",
      "Epoch 73 of 100 took 0.136s\n",
      "  training loss:\t\t0.136581\n",
      "  validation loss:\t\t0.160501\n",
      "  validation accuracy:\t\t91.17 %\n",
      "Epoch 74 of 100 took 0.136s\n",
      "  training loss:\t\t0.134042\n",
      "  validation loss:\t\t0.159881\n",
      "  validation accuracy:\t\t91.00 %\n",
      "Epoch 75 of 100 took 0.137s\n",
      "  training loss:\t\t0.131988\n",
      "  validation loss:\t\t0.160466\n",
      "  validation accuracy:\t\t91.00 %\n",
      "Epoch 76 of 100 took 0.137s\n",
      "  training loss:\t\t0.130029\n",
      "  validation loss:\t\t0.160093\n",
      "  validation accuracy:\t\t91.00 %\n",
      "Epoch 77 of 100 took 0.138s\n",
      "  training loss:\t\t0.128509\n",
      "  validation loss:\t\t0.159979\n",
      "  validation accuracy:\t\t91.00 %\n",
      "Epoch 78 of 100 took 0.135s\n",
      "  training loss:\t\t0.126629\n",
      "  validation loss:\t\t0.160384\n",
      "  validation accuracy:\t\t90.83 %\n",
      "Epoch 79 of 100 took 0.135s\n",
      "  training loss:\t\t0.125116\n",
      "  validation loss:\t\t0.160029\n",
      "  validation accuracy:\t\t91.00 %\n",
      "Epoch 80 of 100 took 0.135s\n",
      "  training loss:\t\t0.122795\n",
      "  validation loss:\t\t0.159749\n",
      "  validation accuracy:\t\t90.83 %\n",
      "Epoch 81 of 100 took 0.135s\n",
      "  training loss:\t\t0.121261\n",
      "  validation loss:\t\t0.159361\n",
      "  validation accuracy:\t\t90.83 %\n",
      "Epoch 82 of 100 took 0.135s\n",
      "  training loss:\t\t0.119488\n",
      "  validation loss:\t\t0.160101\n",
      "  validation accuracy:\t\t90.83 %\n",
      "Epoch 83 of 100 took 0.135s\n",
      "  training loss:\t\t0.117998\n",
      "  validation loss:\t\t0.159457\n",
      "  validation accuracy:\t\t90.83 %\n",
      "Epoch 84 of 100 took 0.135s\n",
      "  training loss:\t\t0.116252\n",
      "  validation loss:\t\t0.159784\n",
      "  validation accuracy:\t\t90.83 %\n",
      "Epoch 85 of 100 took 0.137s\n",
      "  training loss:\t\t0.114413\n",
      "  validation loss:\t\t0.159800\n",
      "  validation accuracy:\t\t91.00 %\n",
      "Epoch 86 of 100 took 0.135s\n",
      "  training loss:\t\t0.113009\n",
      "  validation loss:\t\t0.159175\n",
      "  validation accuracy:\t\t90.83 %\n",
      "Epoch 87 of 100 took 0.135s\n",
      "  training loss:\t\t0.111385\n",
      "  validation loss:\t\t0.160019\n",
      "  validation accuracy:\t\t90.67 %\n",
      "Epoch 88 of 100 took 0.135s\n",
      "  training loss:\t\t0.109888\n",
      "  validation loss:\t\t0.159474\n",
      "  validation accuracy:\t\t90.83 %\n",
      "Epoch 89 of 100 took 0.135s\n",
      "  training loss:\t\t0.108428\n",
      "  validation loss:\t\t0.159616\n",
      "  validation accuracy:\t\t90.83 %\n",
      "Epoch 90 of 100 took 0.138s\n",
      "  training loss:\t\t0.107016\n",
      "  validation loss:\t\t0.160382\n",
      "  validation accuracy:\t\t90.83 %\n",
      "Epoch 91 of 100 took 0.138s\n",
      "  training loss:\t\t0.105811\n",
      "  validation loss:\t\t0.159846\n",
      "  validation accuracy:\t\t90.83 %\n",
      "Epoch 92 of 100 took 0.136s\n",
      "  training loss:\t\t0.104240\n",
      "  validation loss:\t\t0.159146\n",
      "  validation accuracy:\t\t90.83 %\n",
      "Epoch 93 of 100 took 0.135s\n",
      "  training loss:\t\t0.102953\n",
      "  validation loss:\t\t0.159949\n",
      "  validation accuracy:\t\t90.83 %\n",
      "Epoch 94 of 100 took 0.135s\n",
      "  training loss:\t\t0.101556\n",
      "  validation loss:\t\t0.159538\n",
      "  validation accuracy:\t\t90.83 %\n",
      "Epoch 95 of 100 took 0.141s\n",
      "  training loss:\t\t0.099990\n",
      "  validation loss:\t\t0.159881\n",
      "  validation accuracy:\t\t90.83 %\n",
      "Epoch 96 of 100 took 0.140s\n",
      "  training loss:\t\t0.098861\n",
      "  validation loss:\t\t0.160343\n",
      "  validation accuracy:\t\t90.83 %\n",
      "Epoch 97 of 100 took 0.138s\n",
      "  training loss:\t\t0.097640\n",
      "  validation loss:\t\t0.159415\n",
      "  validation accuracy:\t\t90.83 %\n",
      "Epoch 98 of 100 took 0.145s\n",
      "  training loss:\t\t0.096354\n",
      "  validation loss:\t\t0.159977\n",
      "  validation accuracy:\t\t90.83 %\n",
      "Epoch 99 of 100 took 0.144s\n",
      "  training loss:\t\t0.094958\n",
      "  validation loss:\t\t0.160223\n",
      "  validation accuracy:\t\t90.83 %\n",
      "Epoch 100 of 100 took 0.142s\n",
      "  training loss:\t\t0.094039\n",
      "  validation loss:\t\t0.160342\n",
      "  validation accuracy:\t\t90.83 %\n"
     ]
    }
   ],
   "source": [
    "# We iterate over epochs:\n",
    "num_epochs = 100\n",
    "for epoch in range(num_epochs):\n",
    "    # In each epoch, we do a full pass over the training data:\n",
    "    train_err = 0\n",
    "    train_batches = 0\n",
    "    start_time = time.time()\n",
    "    for batch in iterate_minibatches(X_train, y_train, 100, shuffle=True):\n",
    "        inputs, targets = batch\n",
    "        train_err += train_fn(inputs, targets)\n",
    "        train_batches += 1\n",
    "\n",
    "    # And a full pass over the validation data:\n",
    "    val_err = 0\n",
    "    val_acc = 0\n",
    "    val_batches = 0\n",
    "    for batch in iterate_minibatches(X_val, y_val, 50, shuffle=False):\n",
    "        inputs, targets = batch\n",
    "        err, acc = val_fn(inputs, targets)\n",
    "        val_err += err\n",
    "        val_acc += acc\n",
    "        val_batches += 1\n",
    "    \n",
    "    perf.loc[epoch] = [train_err / train_batches, val_err / train_batches, val_acc / val_batches]\n",
    "    # Then we print the results for this epoch:\n",
    "    print(\"Epoch {} of {} took {:.3f}s\".format(\n",
    "        epoch + 1, num_epochs, time.time() - start_time))\n",
    "    print(\"  training loss:\\t\\t{:.6f}\".format(train_err / train_batches))\n",
    "    print(\"  validation loss:\\t\\t{:.6f}\".format(val_err / train_batches))\n",
    "    print(\"  validation accuracy:\\t\\t{:.2f} %\".format(val_acc / val_batches * 100))"
   ]
  },
  {
   "cell_type": "markdown",
   "metadata": {},
   "source": [
    "####Training of the net. \n",
    "\n",
    "After the definition of the network the network has to be trained. Therefore the data is split automatically into 80% training set and 20% test set (controlled by `eval_size=0.2`). We use the first 3000 samples as the training set.  "
   ]
  },
  {
   "cell_type": "markdown",
   "metadata": {},
   "source": [
    "### Fitting procedure / log loss\n",
    "The log-loss $J(\\theta)$ is calculated for the training-set and validation set. It is defined as follows:\n",
    "<img src=\"imgs/logloss.png\" width=\"700\"/>\n",
    "\n",
    "\n",
    "\n",
    "It is plotted for each epoch below. An  epoch is defined by touching each member of the training set once."
   ]
  },
  {
   "cell_type": "code",
   "execution_count": 17,
   "metadata": {
    "collapsed": false
   },
   "outputs": [
    {
     "data": {
      "text/plain": [
       "<matplotlib.axes.AxesSubplot at 0x117cca990>"
      ]
     },
     "execution_count": 17,
     "metadata": {},
     "output_type": "execute_result"
    },
    {
     "data": {
      "image/png": "[encoded data removed]",
      "text/plain": [
       "<matplotlib.figure.Figure at 0x117cf5750>"
      ]
     },
     "metadata": {},
     "output_type": "display_data"
    }
   ],
   "source": [
    "%matplotlib inline\n",
    "perf[['train_loss','valid_loss','valid_accuracy']].plot(title='Performance during Training', ylim=(0,0.95))"
   ]
  },
  {
   "cell_type": "markdown",
   "metadata": {},
   "source": [
    "## Task 1 (evaluate the learning phase)\n",
    "* What is the value of the log-loss for perfect classification?\n",
    "* [optional] What is the value for the log-loss for random assignment to the classes?\n",
    "* Describe the form of the curve"
   ]
  },
  {
   "cell_type": "markdown",
   "metadata": {},
   "source": [
    "## Task 1 (LSG)\n",
    "* 0 since log(1)=0\n",
    "* For random assinment the probability for each class ist 1/10. So ln(1/10) = -2.3. Hence J = 2.3\n",
    "* The training loss reaches the optimal value of 0 but the validation loss on the untouched validation set goes to goes up a again. This indicates overfitting to the training set."
   ]
  },
  {
   "cell_type": "markdown",
   "metadata": {},
   "source": [
    "## Task 2 (evaluate on testset)\n",
    "Now that we have fixed the weights of the network, we can make predictions on unseen data 3000-4000 and evaluate the performance. We first have to compile a function using the input and output variables."
   ]
  },
  {
   "cell_type": "code",
   "execution_count": 39,
   "metadata": {
    "collapsed": false
   },
   "outputs": [
    {
     "data": {
      "text/plain": [
       "0.91700000000000004"
      ]
     },
     "execution_count": 39,
     "metadata": {},
     "output_type": "execute_result"
    }
   ],
   "source": [
    "pred = theano.function([input_var],[test_prediction])\n",
    "res = pred(X[3000:4000])[0]\n",
    "np.mean(np.argmax(res, axis=1) == y[3000:4000])"
   ]
  },
  {
   "cell_type": "markdown",
   "metadata": {
    "collapsed": true
   },
   "source": [
    "In the notebook [MinimalLasagneCNN.ipynb](MinimalLasagneCNN.ipynb) we show how to use a CNN."
   ]
  }
 ],
 "metadata": {
  "kernelspec": {
   "display_name": "Python 2",
   "language": "python",
   "name": "python2"
  },
  "language_info": {
   "codemirror_mode": {
    "name": "ipython",
    "version": 2
   },
   "file_extension": ".py",
   "mimetype": "text/x-python",
   "name": "python",
   "nbconvert_exporter": "python",
   "pygments_lexer": "ipython2",
   "version": "2.7.10"
  }
 },
 "nbformat": 4,
 "nbformat_minor": 0
}
