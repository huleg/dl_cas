{
 "cells": [
  {
   "cell_type": "markdown",
   "metadata": {},
   "source": [
    "# A simple example for logistic regression\n",
    "This notebook calculates a logistic regression using TensorFlow. It's basically meant to show the principles of TensorFlow.\n",
    "\n",
    "## Datset\n",
    "\n",
    "We investigate the data set of the challenger flight with broken O-rings (Y=1) vs start temperature."
   ]
  },
  {
   "cell_type": "code",
   "execution_count": 5,
   "metadata": {
    "collapsed": false
   },
   "outputs": [
    {
     "data": {
      "text/plain": [
       "[40, 85, -0.1, 1.2]"
      ]
     },
     "execution_count": 5,
     "metadata": {},
     "output_type": "execute_result"
    },
    {
     "data": {
      "image/png": "[encoded data removed]",
      "text/plain": [
       "<matplotlib.figure.Figure at 0x10aa55f10>"
      ]
     },
     "metadata": {},
     "output_type": "display_data"
    }
   ],
   "source": [
    "%matplotlib inline\n",
    "import numpy as np\n",
    "import matplotlib.pyplot as plt\n",
    "import matplotlib.image as imgplot\n",
    "import numpy as np\n",
    "import pandas as pd\n",
    "data = np.asarray(pd.read_csv('../challenger.txt', sep=','), dtype='float32')\n",
    "plt.plot(data[:,0], data[:,1], 'o')\n",
    "plt.axis([40, 85, -0.1, 1.2])"
   ]
  },
  {
   "cell_type": "code",
   "execution_count": 8,
   "metadata": {
    "collapsed": false
   },
   "outputs": [],
   "source": [
    "y_values = data[:,1]"
   ]
  },
  {
   "cell_type": "markdown",
   "metadata": {},
   "source": [
    "## Mathematical Notes\n",
    "We are considering the likelihood $p(y_i=1|x_i)$ for the class $y_i=1$ given the $i-$th data point $x_i$ ($x_i$ could be a vector). This is given by:\n",
    "$\n",
    "p(y_i=1 | x_i) = \\frac{e^{(b + W' x_i)}}{1 + e^{(b + W' x_i)}} = [1 + e^{-(b + W' x_i)}]^{-1}\n",
    "$\n",
    "\n",
    "If we have more than one data point, which we usually do, we have to apply the equation above to each of the N data points. In this case we can used a vectorized version with $x=(x_1,x_2,\\ldots,x_N)$ and $y=(y_1,y_2,\\ldots,y_N$)"
   ]
  },
  {
   "cell_type": "code",
   "execution_count": 2,
   "metadata": {
    "collapsed": false
   },
   "outputs": [],
   "source": [
    "import numpy\n",
    "import tensorflow as tf"
   ]
  },
  {
   "cell_type": "markdown",
   "metadata": {},
   "source": [
    "### Numpy code\n",
    "This numpy code, shows the calculation for one value using numpy (like a single forward pass)"
   ]
  },
  {
   "cell_type": "code",
   "execution_count": 27,
   "metadata": {
    "collapsed": false
   },
   "outputs": [
    {
     "data": {
      "text/plain": [
       "3.882916"
      ]
     },
     "execution_count": 27,
     "metadata": {},
     "output_type": "execute_result"
    }
   ],
   "source": [
    "# Data\n",
    "N = len(data)\n",
    "x = data[:,0]\n",
    "y = data[:,1]\n",
    "# Initial Value for the weights\n",
    "w = -0.20\n",
    "b = 20.0\n",
    "# Log-Likelihood \n",
    "p_1 = 1 / (1 + np.exp(-x*w - b))\n",
    "like = y * np.log(p_1) + (1-y) * np.log(1-p_1)\n",
    "-np.mean(like)"
   ]
  },
  {
   "cell_type": "markdown",
   "metadata": {},
   "source": [
    "### Tensorflow Code (forward pass)"
   ]
  },
  {
   "cell_type": "code",
   "execution_count": 32,
   "metadata": {
    "collapsed": false
   },
   "outputs": [
    {
     "name": "stdout",
     "output_type": "stream",
     "text": [
      "6.661\n",
      "[ 0.99997962  0.99995458  0.99996281  0.9999696   0.99997509  0.99993229\n",
      "  0.99991727  0.99995458  0.99999666  0.99998879  0.99995458  0.99977523\n",
      "  0.99997509  0.99999845  0.99997509  0.99987662  0.99995458  0.99959046\n",
      "  0.99984932  0.9997254   0.99987662  0.99984932  0.99999583]\n"
     ]
    }
   ],
   "source": [
    "import tensorflow as tf\n",
    "tf.reset_default_graph() #Just to be sure to start with an empty graph\n",
    "\n",
    "x = tf.placeholder('float32', [N], name='x_data')\n",
    "y = tf.placeholder('float32', [N], name='y_data')\n",
    "# Initial weights with initial values\n",
    "w = tf.Variable(-0.20, name = 'w') \n",
    "b = tf.Variable(24.0, name = 'b')\n",
    "\n",
    "init_op = tf.initialize_all_variables() \n",
    "p_1 = 1 / (1 + tf.exp(-x*w - b))\n",
    "like = y * tf.log(p_1) + (1-y) * tf.log(1-p_1)\n",
    "loss = -tf.reduce_mean(like) #<----- All up to now is a symbolic definition of a graph\n",
    "with tf.Session() as sess:\n",
    "    sess.run(init_op) #Doing the initialization on the concrete realization of the graph\n",
    "    _, p_1_val = sess.run(fetches = [loss, p_1], feed_dict={x:data[:,0], y:data[:,1]})\n",
    "    print(_)\n",
    "    print(p_1_val)"
   ]
  },
  {
   "cell_type": "code",
   "execution_count": 33,
   "metadata": {
    "collapsed": true
   },
   "outputs": [],
   "source": [
    "tf.train.SummaryWriter('tmp/tf_log_reg', tf.get_default_graph()).close()"
   ]
  },
  {
   "cell_type": "markdown",
   "metadata": {},
   "source": [
    "### Training \n"
   ]
  },
  {
   "cell_type": "code",
   "execution_count": 36,
   "metadata": {
    "collapsed": false
   },
   "outputs": [
    {
     "name": "stdout",
     "output_type": "stream",
     "text": [
      "6.661\n",
      "0.46538\n",
      "0.465378\n",
      "0.465376\n",
      "0.465374\n",
      "0.465373\n",
      "0.465371\n",
      "0.465369\n",
      "0.465367\n",
      "0.465366\n",
      "0.465364009142 -0.363178253174 23.9939022064\n"
     ]
    }
   ],
   "source": [
    "train_op = tf.train.GradientDescentOptimizer(0.001).minimize(loss)\n",
    "#train_op = tf.train.AdagradOptimizer(0.1).minimize(loss)\n",
    "with tf.Session() as sess:\n",
    "    sess.run(init_op) #Doing the initialization on the concrete realization of the graph\n",
    "    for i in range(1000):\n",
    "        res, _, w_val, b_val = sess.run((loss, train_op, w, b), feed_dict={x:data[:,0], y:data[:,1]})\n",
    "        if (i % 100 == 0):\n",
    "            print(res)\n",
    "print (\"{} {} {}\".format(res, w_val, b_val))\n"
   ]
  },
  {
   "cell_type": "code",
   "execution_count": 37,
   "metadata": {
    "collapsed": false
   },
   "outputs": [
    {
     "data": {
      "text/plain": [
       "[<matplotlib.lines.Line2D at 0x1129e0f50>]"
      ]
     },
     "execution_count": 37,
     "metadata": {},
     "output_type": "execute_result"
    },
    {
     "data": {
      "image/png": "[encoded data removed]",
      "text/plain": [
       "<matplotlib.figure.Figure at 0x112cb3b90>"
      ]
     },
     "metadata": {},
     "output_type": "display_data"
    }
   ],
   "source": [
    "plt.plot(data[:,0], data[:,1], 'o')\n",
    "plt.axis([40, 85, -0.1, 1.2])\n",
    "x_pred = np.linspace(40,85)\n",
    "x_pred = np.resize(x_pred,[len(x_pred),1])\n",
    "y_pred = 1 / (1 + np.exp(-x_pred*w_val - b_val))\n",
    "plt.plot(x_pred, y_pred)"
   ]
  },
  {
   "cell_type": "markdown",
   "metadata": {},
   "source": [
    "### Storing of the graph"
   ]
  },
  {
   "cell_type": "code",
   "execution_count": 8,
   "metadata": {
    "collapsed": false
   },
   "outputs": [
    {
     "name": "stderr",
     "output_type": "stream",
     "text": [
      "WARNING:tensorflow:Passing a `GraphDef` to the SummaryWriter is deprecated. Pass a `Graph` object instead, such as `sess.graph`.\n"
     ]
    }
   ],
   "source": [
    "with tf.Session() as sess:\n",
    "    sess.run(init_op)\n",
    "    writer = tf.train.SummaryWriter(\"/tmp/\", sess.graph_def, 'graph.pbtxt') #<--- Where to store"
   ]
  },
  {
   "cell_type": "markdown",
   "metadata": {
    "collapsed": false
   },
   "source": [
    "### Performance can be visualized in Tensorboard\n",
    "\n",
    "The performance can be visualized in Tensorboard. \n",
    "```\n",
    "    tensorboard --logdir /tmp/ --port 8081\n",
    "```\n",
    "and open a browser at\n",
    "http://localhost:8081"
   ]
  }
 ],
 "metadata": {
  "kernelspec": {
   "display_name": "Python 2",
   "language": "python",
   "name": "python2"
  },
  "language_info": {
   "codemirror_mode": {
    "name": "ipython",
    "version": 2
   },
   "file_extension": ".py",
   "mimetype": "text/x-python",
   "name": "python",
   "nbconvert_exporter": "python",
   "pygments_lexer": "ipython2",
   "version": "2.7.10"
  }
 },
 "nbformat": 4,
 "nbformat_minor": 0
}
