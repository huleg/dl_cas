{
 "cells": [
  {
   "cell_type": "markdown",
   "metadata": {},
   "source": [
    "## Convolution Neural Network (CNN)\n",
    "In this notebook we show how to do the classification using a simple CNN. First we load the data and the necessary libraries."
   ]
  },
  {
   "cell_type": "code",
   "execution_count": 2,
   "metadata": {
    "collapsed": false
   },
   "outputs": [
    {
     "data": {
      "text/plain": [
       "((4000, 1, 28, 28), (4000,), 28)"
      ]
     },
     "execution_count": 2,
     "metadata": {},
     "output_type": "execute_result"
    }
   ],
   "source": [
    "%matplotlib inline\n",
    "import numpy as np\n",
    "import matplotlib.pyplot as plt\n",
    "import matplotlib.image as imgplot\n",
    "import numpy as np\n",
    "import cPickle as pickle\n",
    "import gzip\n",
    "import time\n",
    "\n",
    "with gzip.open('../mnist_4000.pkl.gz', 'rb') as f:\n",
    "    (X,y) = pickle.load(f)\n",
    "PIXELS = len(X[0,0,0,:])\n",
    "X.shape, y.shape, PIXELS #X contains the images and y contains the labels."
   ]
  },
  {
   "cell_type": "markdown",
   "metadata": {},
   "source": [
    "## Reshapeing the data to fit TF\n",
    "The data as loaded is in the form [batch, channel, width, height]. For convolutions in TensorFlow and thus TFLearn the tensors must be iin the form [batch, width, height, channel]. We therefore have to reshuffel. A note of warning, always check if you did the reshape correctly!"
   ]
  },
  {
   "cell_type": "code",
   "execution_count": 3,
   "metadata": {
    "collapsed": false
   },
   "outputs": [
    {
     "data": {
      "image/png": "[encoded data removed]",
      "text/plain": [
       "<matplotlib.figure.Figure at 0x10b5f9210>"
      ]
     },
     "metadata": {},
     "output_type": "display_data"
    },
    {
     "data": {
      "text/plain": [
       "((4000, 28, 28, 1), array([5, 0, 4, 1, 9, 2, 1, 3, 1, 4], dtype=int32))"
      ]
     },
     "execution_count": 3,
     "metadata": {},
     "output_type": "execute_result"
    }
   ],
   "source": [
    "X = X.reshape(X.shape[0], X.shape[2], X.shape[3], X.shape[1])\n",
    "fig = plt.figure(figsize=(10,30))\n",
    "for i in range(6):\n",
    "    a=fig.add_subplot(1,6,(i+1))\n",
    "    plt.imshow(-X[i,:,:,0], interpolation='none',cmap=plt.get_cmap('gray'))\n",
    "plt.show()\n",
    "X.shape, y[0:10]"
   ]
  },
  {
   "cell_type": "markdown",
   "metadata": {
    "slideshow": {
     "slide_type": "-"
    }
   },
   "source": [
    "### A first simple CNN\n",
    "Now let's train a network using the loaded data. First we have to design the architecture of the network.\n",
    "#### Definition of the network\n",
    "We again use the simple definition using the class `NeuralNet` from `nolearn.lasagne` to create a network like this \n",
    "\n",
    "<img src=\"../imgs/lenet.png\" width=\"700\"/>"
   ]
  },
  {
   "cell_type": "code",
   "execution_count": 4,
   "metadata": {
    "collapsed": false
   },
   "outputs": [],
   "source": [
    "import tflearn\n",
    "from tflearn.layers.core import input_data, dropout, fully_connected\n",
    "from tflearn.layers.conv import conv_2d, max_pool_2d\n",
    "from tflearn.layers.normalization import local_response_normalization\n",
    "from tflearn.layers.estimator import regression\n",
    "\n",
    "import tensorflow as tf\n",
    "tf.reset_default_graph() \n",
    "network = input_data(shape=[None, PIXELS, PIXELS, 1], name='input')\n",
    "network = conv_2d(network, 32, 3, activation='relu', padding='valid')\n",
    "network = max_pool_2d(network, 2)\n",
    "network = conv_2d(network, 64, 2, activation='relu', padding='valid')\n",
    "network = max_pool_2d(network, 2)\n",
    "network = fully_connected(network, 500, activation='relu')\n",
    "network = fully_connected(network, 10, activation='softmax')\n",
    "network = regression(network, optimizer='adam', learning_rate=0.01,\n",
    "                     loss='categorical_crossentropy', name='target')"
   ]
  },
  {
   "cell_type": "code",
   "execution_count": 5,
   "metadata": {
    "collapsed": false
   },
   "outputs": [],
   "source": [
    "X_train = X[0:2400,:,:,:]\n",
    "X_val   = X[2400:3000,:,:,:]\n",
    "y_train = y[0:2400]\n",
    "y_val = y[2400:3000]\n",
    "# Taken from http://stackoverflow.com/questions/29831489/numpy-1-hot-array\n",
    "def convertToOneHot(vector, num_classes=None):\n",
    "    result = np.zeros((len(vector), num_classes), dtype='int32')\n",
    "    result[np.arange(len(vector)), vector] = 1\n",
    "    return result"
   ]
  },
  {
   "cell_type": "code",
   "execution_count": 6,
   "metadata": {
    "collapsed": false
   },
   "outputs": [
    {
     "name": "stdout",
     "output_type": "stream",
     "text": [
      "Training Step: 1520  | total loss: \u001b[1m\u001b[32m0.00962\u001b[0m\u001b[0m\n",
      "| Adam | epoch: 040 | loss: 0.00962 - acc: 0.9988 | val_loss: 0.59451 - val_acc: 0.9033 -- iter: 2400/2400\n",
      "Training Step: 1520  | total loss: \u001b[1m\u001b[32m0.00962\u001b[0m\u001b[0m\n",
      "| Adam | epoch: 040 | loss: 0.00962 - acc: 0.9988 | val_loss: 0.59451 - val_acc: 0.9033 -- iter: 2400/2400\n",
      "--\n"
     ]
    }
   ],
   "source": [
    "model = tflearn.DNN(network, tensorboard_verbose=0)\n",
    "model.fit(X_inputs=X_train, \n",
    "          Y_targets=convertToOneHot(y_train, 10), \n",
    "          validation_set = (X_val, convertToOneHot(y_val, 10)),\n",
    "          n_epoch=40,\n",
    "          show_metric=True, \n",
    "          run_id=\"cnn_model\",\n",
    "         )"
   ]
  },
  {
   "cell_type": "markdown",
   "metadata": {},
   "source": [
    "## Task 1 (Check dimension)\n",
    "\n",
    "Open tensorboard and have a look at the graph. What are the dimensions of the tensors, from the input to the output layers. Does this make sense?"
   ]
  },
  {
   "cell_type": "markdown",
   "metadata": {},
   "source": [
    "#### Task 1 (Solution)\n",
    "\n"
   ]
  },
  {
   "cell_type": "markdown",
   "metadata": {},
   "source": [
    "We have a trained classifier with which we can make predictions.\n",
    "## Task 2 (Evaluate the performance)\n",
    "Evaluate the performance on the unseen data-set, examples 3000-4000."
   ]
  },
  {
   "cell_type": "code",
   "execution_count": 1,
   "metadata": {
    "collapsed": false
   },
   "outputs": [
    {
     "ename": "NameError",
     "evalue": "name 'np' is not defined",
     "output_type": "error",
     "traceback": [
      "\u001b[0;31m---------------------------------------------------------------------------\u001b[0m",
      "\u001b[0;31mNameError\u001b[0m                                 Traceback (most recent call last)",
      "\u001b[0;32m<ipython-input-1-874bc0cb339f>\u001b[0m in \u001b[0;36m<module>\u001b[0;34m()\u001b[0m\n\u001b[0;32m----> 1\u001b[0;31m \u001b[0my_probs\u001b[0m \u001b[0;34m=\u001b[0m \u001b[0mnp\u001b[0m\u001b[0;34m.\u001b[0m\u001b[0masarray\u001b[0m\u001b[0;34m(\u001b[0m\u001b[0mmodel\u001b[0m\u001b[0;34m.\u001b[0m\u001b[0mpredict\u001b[0m\u001b[0;34m(\u001b[0m\u001b[0mX\u001b[0m\u001b[0;34m[\u001b[0m\u001b[0;36m3000\u001b[0m\u001b[0;34m:\u001b[0m\u001b[0;36m4000\u001b[0m\u001b[0;34m,\u001b[0m\u001b[0;34m]\u001b[0m\u001b[0;34m)\u001b[0m\u001b[0;34m)\u001b[0m\u001b[0;34m\u001b[0m\u001b[0m\n\u001b[0m\u001b[1;32m      2\u001b[0m \u001b[0mnp\u001b[0m\u001b[0;34m.\u001b[0m\u001b[0mshape\u001b[0m\u001b[0;34m(\u001b[0m\u001b[0my_probs\u001b[0m\u001b[0;34m)\u001b[0m\u001b[0;34m\u001b[0m\u001b[0m\n\u001b[1;32m      3\u001b[0m \u001b[0;34m\u001b[0m\u001b[0m\n\u001b[1;32m      4\u001b[0m \u001b[0;31m### Your code here\u001b[0m\u001b[0;34m\u001b[0m\u001b[0;34m\u001b[0m\u001b[0m\n",
      "\u001b[0;31mNameError\u001b[0m: name 'np' is not defined"
     ]
    }
   ],
   "source": [
    "y_probs = np.asarray(model.predict(X[3000:4000,]))\n",
    "np.shape(y_probs)\n",
    "\n",
    "### Your code here\n"
   ]
  },
  {
   "cell_type": "markdown",
   "metadata": {},
   "source": [
    "## Task 3 (Learning Curve)\n",
    "\n",
    "Look at the learning curve in tensorboard, do we have overfitting?"
   ]
  },
  {
   "cell_type": "markdown",
   "metadata": {},
   "source": [
    "### Solution\n"
   ]
  },
  {
   "cell_type": "code",
   "execution_count": null,
   "metadata": {
    "collapsed": true
   },
   "outputs": [],
   "source": []
  }
 ],
 "metadata": {
  "kernelspec": {
   "display_name": "Python 2",
   "language": "python",
   "name": "python2"
  },
  "language_info": {
   "codemirror_mode": {
    "name": "ipython",
    "version": 2
   },
   "file_extension": ".py",
   "mimetype": "text/x-python",
   "name": "python",
   "nbconvert_exporter": "python",
   "pygments_lexer": "ipython2",
   "version": "2.7.10"
  }
 },
 "nbformat": 4,
 "nbformat_minor": 0
}
