{
 "cells": [
  {
   "cell_type": "markdown",
   "metadata": {},
   "source": [
    "# Classical methods\n",
    "In this script we evaluate the \"classical\" SVM method for the MNIST database of handwritten digits. It's also meant to become familiar with the 4 dimensional data format used for the deep learning libraries later on.\n",
    "\n",
    "\n",
    "## Loading the data\n",
    "While the original dataset has 70'000 examples of hand written digits, we restrict us here to the first 4000 digits to make an interactive session possible. This is especially necessarry for the for deep learning part we do later.  \n",
    "\n",
    "### Data-Format\n",
    "For the deep learning libraries we will use later all images must be provided in a 4-dimensional array X with the following dimensions: \n",
    "\n",
    "(number of images, number of colors, x, y) \n",
    "\n",
    "and the labels in a vector y of same size. So X[1,0,1,2] would be the image number 1, the color channel 0 and the pixel x = 1 and y=2."
   ]
  },
  {
   "cell_type": "code",
   "execution_count": 2,
   "metadata": {
    "collapsed": false
   },
   "outputs": [
    {
     "data": {
      "text/plain": [
       "((4000, 1, 28, 28), (4000,), 28)"
      ]
     },
     "execution_count": 2,
     "metadata": {},
     "output_type": "execute_result"
    }
   ],
   "source": [
    "%matplotlib inline\n",
    "import numpy as np\n",
    "import matplotlib.pyplot as plt\n",
    "import matplotlib.image as imgplot\n",
    "\n",
    "import cPickle as pickle\n",
    "import gzip\n",
    "with gzip.open('mnist_4000.pkl.gz', 'rb') as f:\n",
    "    (X,y) = pickle.load(f)\n",
    "PIXELS = len(X[0,0,0,:])\n",
    "X.shape, y.shape, PIXELS"
   ]
  },
  {
   "cell_type": "markdown",
   "metadata": {},
   "source": [
    "## Task 1 (Understanding the geometry)\n",
    "Print out the pixel (15,16) of the 0th image and the 0th color channel. "
   ]
  },
  {
   "cell_type": "code",
   "execution_count": 3,
   "metadata": {
    "collapsed": false
   },
   "outputs": [
    {
     "data": {
      "text/plain": [
       "1.0584806"
      ]
     },
     "execution_count": 3,
     "metadata": {},
     "output_type": "execute_result"
    }
   ],
   "source": [
    "X[0,0,15,16] "
   ]
  },
  {
   "cell_type": "markdown",
   "metadata": {},
   "source": [
    "## Task 2 (plotting)\n",
    "Plot the 0th image and print out the digit/label stored in the variable *y*. Plotting of a 2-dimnesional matrix XX can be done with \n",
    "\n",
    "```\n",
    "import matplotlib.pyplot as plt\n",
    "plt.imshow(XX, interpolation='none',cmap=plt.get_cmap('gray'))\n",
    "```"
   ]
  },
  {
   "cell_type": "code",
   "execution_count": 4,
   "metadata": {
    "collapsed": false
   },
   "outputs": [
    {
     "name": "stdout",
     "output_type": "stream",
     "text": [
      "5\n"
     ]
    },
    {
     "data": {
      "text/plain": [
       "<matplotlib.image.AxesImage at 0x104858290>"
      ]
     },
     "execution_count": 4,
     "metadata": {},
     "output_type": "execute_result"
    },
    {
     "data": {
      "image/png": "[encoded data removed]",
      "text/plain": [
       "<matplotlib.figure.Figure at 0x108cac890>"
      ]
     },
     "metadata": {},
     "output_type": "display_data"
    }
   ],
   "source": [
    "print(y[0])\n",
    "import matplotlib.pyplot as plt\n",
    "plt.imshow(X[0,0,:,:], interpolation='none')"
   ]
  },
  {
   "cell_type": "markdown",
   "metadata": {},
   "source": [
    "## Task 3 (Reshaping)\n",
    "For classification the data must be in a two dimensional array. The rows are the examples and the columns the features. Use `X.reshape((#Number of Rows, #Number of features))` to do the simple unrolling feature extraction. "
   ]
  },
  {
   "cell_type": "code",
   "execution_count": 5,
   "metadata": {
    "collapsed": false
   },
   "outputs": [
    {
     "data": {
      "text/plain": [
       "(4000, 784)"
      ]
     },
     "execution_count": 5,
     "metadata": {},
     "output_type": "execute_result"
    }
   ],
   "source": [
    "X2d = X.reshape((4000, PIXELS**2))\n",
    "np.shape(X2d)"
   ]
  },
  {
   "cell_type": "code",
   "execution_count": 6,
   "metadata": {
    "collapsed": false
   },
   "outputs": [],
   "source": [
    "# Just for completness (see if normalization is any good)\n",
    "# It's not needed\n",
    "if False:\n",
    "    Xmean = X2d.mean(axis = 0)\n",
    "    XStd = np.sqrt(X2d.var(axis=0))\n",
    "    X2d = (X2d-Xmean)/(XStd + 0.01)"
   ]
  },
  {
   "cell_type": "markdown",
   "metadata": {},
   "source": [
    "## Task 4 (Classification using a SVM)\n",
    "\n",
    "Use the first 3000 images to train a svm with a linear kernel and parameter C=0.01. Then make predictions on the remaining 1000 images and evalutate the performance (i.e. the percentage of correctly classified images). You may need the following command:\n",
    "\n",
    "```\n",
    "from sklearn import svm\n",
    "svc = svm.SVC(kernel='linear', C=...).fit(...)\n",
    "y_pred = svc.predict(...)\n",
    "np.mean(... == y_pred)\n",
    "```"
   ]
  },
  {
   "cell_type": "code",
   "execution_count": 7,
   "metadata": {
    "collapsed": true
   },
   "outputs": [],
   "source": [
    "X_train = X2d[0:3000,:]\n",
    "X_test = X2d[3000:,]\n",
    "y_train = y[0:3000]\n",
    "y_test = y[3000:]"
   ]
  },
  {
   "cell_type": "code",
   "execution_count": 8,
   "metadata": {
    "collapsed": false
   },
   "outputs": [],
   "source": [
    "from sklearn import svm\n",
    "svc = svm.SVC(kernel='linear', C=0.01).fit(X_train, y_train)"
   ]
  },
  {
   "cell_type": "code",
   "execution_count": 9,
   "metadata": {
    "collapsed": false
   },
   "outputs": [],
   "source": [
    "y_pred = svc.predict(X_test)"
   ]
  },
  {
   "cell_type": "code",
   "execution_count": 11,
   "metadata": {
    "collapsed": false
   },
   "outputs": [
    {
     "data": {
      "text/plain": [
       "0.92200000000000004"
      ]
     },
     "execution_count": 11,
     "metadata": {},
     "output_type": "execute_result"
    }
   ],
   "source": [
    "np.mean(y_test == y_pred)"
   ]
  },
  {
   "cell_type": "code",
   "execution_count": 10,
   "metadata": {
    "collapsed": false
   },
   "outputs": [
    {
     "name": "stdout",
     "output_type": "stream",
     "text": [
      "C=0.001 number of SV=1661\n",
      "0.916\n",
      "C=0.01 number of SV=1240\n",
      "0.922\n",
      "C=0.1 number of SV=1215\n",
      "0.908\n",
      "C=1 number of SV=1215\n",
      "0.908\n",
      "C=10.0 number of SV=1215\n",
      "0.908\n",
      "C=100.0 number of SV=1215\n",
      "0.908\n"
     ]
    }
   ],
   "source": [
    "# Just for complettness to see which is the best value for C\n",
    "for C in (1e-3, 1e-2, 1e-1, 1, 1e1,1e2):\n",
    "    svc = svm.SVC(kernel='linear', C=C).fit(X_train,y_train)\n",
    "    print('C={0} number of SV={1}'.format(C, len(svc.support_vectors_)))\n",
    "    y_pred = svc.predict(X_test)\n",
    "    print(np.mean(y_test == y_pred))"
   ]
  },
  {
   "cell_type": "markdown",
   "metadata": {},
   "source": [
    "#Task 5 (Dimension Reduction)\n",
    "Use a PCA as dimensionreduction, before doing the classification and limit to the first 50 components. Does the result get better? Is the calculation faster? You may need the following command:\n",
    "\n",
    "```\n",
    "from sklearn.decomposition import RandomizedPCA\n",
    "pca = RandomizedPCA(..., whiten=True).fit(X_train) #To \"learn the PCA\"\n",
    "X_test_pca = pca.transform(X_test) #To apply the PCA\n",
    "```\n"
   ]
  },
  {
   "cell_type": "code",
   "execution_count": 14,
   "metadata": {
    "collapsed": true
   },
   "outputs": [],
   "source": [
    "## Task 5 PCA before classification\n",
    "from sklearn.decomposition import RandomizedPCA\n",
    "pca = RandomizedPCA(n_components=50, whiten=True).fit(X_train)\n",
    "X_train_pca = pca.transform(X_train)\n",
    "X_test_pca = pca.transform(X_test)"
   ]
  },
  {
   "cell_type": "code",
   "execution_count": 17,
   "metadata": {
    "collapsed": false
   },
   "outputs": [
    {
     "data": {
      "text/plain": [
       "0.92100000000000004"
      ]
     },
     "execution_count": 17,
     "metadata": {},
     "output_type": "execute_result"
    }
   ],
   "source": [
    "svc = svm.SVC(kernel='linear', C=0.01).fit(X_train_pca,y_train)\n",
    "y_pred = svc.predict(X_test_pca)\n",
    "np.mean(y_test == y_pred)"
   ]
  },
  {
   "cell_type": "markdown",
   "metadata": {},
   "source": [
    "### Just for completness"
   ]
  },
  {
   "cell_type": "code",
   "execution_count": 13,
   "metadata": {
    "collapsed": false
   },
   "outputs": [
    {
     "name": "stdout",
     "output_type": "stream",
     "text": [
      "C=0.001 number of SV=2761\n",
      "0.847\n",
      "C=0.01 number of SV=1721\n",
      "0.913\n",
      "C=0.1 number of SV=1083\n",
      "0.914\n",
      "C=1 number of SV=879\n",
      "0.91\n",
      "C=10.0 number of SV=859\n",
      "0.892\n",
      "C=100.0 number of SV=844\n",
      "0.884\n"
     ]
    }
   ],
   "source": [
    "for C in (1e-3, 1e-2, 1e-1, 1, 1e1,1e2):\n",
    "    svc = svm.SVC(kernel='linear', C=C).fit(X_train_pca,y_train)\n",
    "    print('C={0} number of SV={1}'.format(C, len(svc.support_vectors_)))\n",
    "    y_pred = svc.predict(X_test_pca)\n",
    "    print(np.mean(y_test == y_pred))"
   ]
  },
  {
   "cell_type": "markdown",
   "metadata": {},
   "source": [
    "### Task 5 LSG\n",
    "\n",
    "A support vector machine (with a linear kernel) can usually deal with many features and the accuracy does not deterioriate. However, the performance (in time) is faster if we do a dimension reduction before the classification. If we would have done for example a kNN classification instead of the SVM we could expect that the accurancy would get better, when using dimension reduction before classification."
   ]
  }
 ],
 "metadata": {
  "kernelspec": {
   "display_name": "Python 2",
   "language": "python",
   "name": "python2"
  },
  "language_info": {
   "codemirror_mode": {
    "name": "ipython",
    "version": 2
   },
   "file_extension": ".py",
   "mimetype": "text/x-python",
   "name": "python",
   "nbconvert_exporter": "python",
   "pygments_lexer": "ipython2",
   "version": "2.7.10"
  }
 },
 "nbformat": 4,
 "nbformat_minor": 0
}
